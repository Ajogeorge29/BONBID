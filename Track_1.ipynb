{
  "nbformat": 4,
  "nbformat_minor": 0,
  "metadata": {
    "colab": {
      "provenance": [],
      "gpuType": "T4",
      "authorship_tag": "ABX9TyPORfLVjpvp5A7hCELLjr79",
      "include_colab_link": true
    },
    "kernelspec": {
      "name": "python3",
      "display_name": "Python 3"
    },
    "language_info": {
      "name": "python"
    },
    "accelerator": "GPU"
  },
  "cells": [
    {
      "cell_type": "markdown",
      "metadata": {
        "id": "view-in-github",
        "colab_type": "text"
      },
      "source": [
        "<a href=\"https://colab.research.google.com/github/Ajogeorge29/BONBID/blob/main/Track_1.ipynb\" target=\"_parent\"><img src=\"https://colab.research.google.com/assets/colab-badge.svg\" alt=\"Open In Colab\"/></a>"
      ]
    },
    {
      "cell_type": "markdown",
      "source": [
        "Track 1: Lesion Segmentation."
      ],
      "metadata": {
        "id": "uzPvpZfqXakh"
      }
    },
    {
      "cell_type": "code",
      "execution_count": null,
      "metadata": {
        "colab": {
          "base_uri": "https://localhost:8080/"
        },
        "id": "XZ999KebPVxI",
        "outputId": "32cd1742-6ca4-4c38-a8f9-0e93119d6d8d"
      },
      "outputs": [
        {
          "output_type": "stream",
          "name": "stdout",
          "text": [
            "Mounted at /content/drive\n"
          ]
        }
      ],
      "source": [
        "from google.colab import drive\n",
        "drive.mount('/content/drive')"
      ]
    },
    {
      "cell_type": "code",
      "source": [
        "!pip install SimpleITK\n",
        "!pip install numpy"
      ],
      "metadata": {
        "colab": {
          "base_uri": "https://localhost:8080/"
        },
        "id": "yAWO8uK2QqIM",
        "outputId": "183b6aab-f20c-413f-a7eb-248145208027"
      },
      "execution_count": null,
      "outputs": [
        {
          "output_type": "stream",
          "name": "stdout",
          "text": [
            "Collecting SimpleITK\n",
            "  Downloading SimpleITK-2.4.0-cp310-cp310-manylinux_2_17_x86_64.manylinux2014_x86_64.whl.metadata (7.9 kB)\n",
            "Downloading SimpleITK-2.4.0-cp310-cp310-manylinux_2_17_x86_64.manylinux2014_x86_64.whl (52.4 MB)\n",
            "\u001b[2K   \u001b[90m━━━━━━━━━━━━━━━━━━━━━━━━━━━━━━━━━━━━━━━━\u001b[0m \u001b[32m52.4/52.4 MB\u001b[0m \u001b[31m15.6 MB/s\u001b[0m eta \u001b[36m0:00:00\u001b[0m\n",
            "\u001b[?25hInstalling collected packages: SimpleITK\n",
            "Successfully installed SimpleITK-2.4.0\n",
            "Requirement already satisfied: numpy in /usr/local/lib/python3.10/dist-packages (1.26.4)\n"
          ]
        }
      ]
    },
    {
      "cell_type": "code",
      "source": [
        "import os\n",
        "import SimpleITK as sitk\n",
        "import numpy as np\n",
        "import torch\n",
        "from torch.utils.data import Dataset, DataLoader\n",
        "from torchvision import transforms\n",
        "\n",
        "import torch.nn.functional as F\n",
        "\n",
        "# Define data paths\n",
        "adc_dir = \"/content/drive/MyDrive/BONBID CHALLENGE 2024/challenge harward/BONBID2023_Train/BONBID2023_Train/Preprocessed/adc\"\n",
        "z_adc_dir = \"/content/drive/MyDrive/BONBID CHALLENGE 2024/challenge harward/BONBID2023_Train/BONBID2023_Train/Preprocessed/z_adc\"\n",
        "label_dir = \"/content/drive/MyDrive/BONBID CHALLENGE 2024/challenge harward/BONBID2023_Train/BONBID2023_Train/Preprocessed/label\"\n",
        "\n",
        "# Initialize dataset and data loader\n",
        "dataset = BONBID_Dataset(adc_dir, z_adc_dir, label_dir, target_shape=(128, 224, 224))\n",
        "data_loader = DataLoader(dataset, batch_size=2, shuffle=True)\n",
        "\n",
        "# Test data loader\n",
        "sample_inputs, sample_labels = next(iter(data_loader))\n",
        "print(\"Sample input shape:\", sample_inputs.shape)  # Expected: [batch_size, 2, 128, 224, 224]\n",
        "print(\"Sample label shape:\", sample_labels.shape)   # Expected: [batch_size, 1, 128, 224, 224]\n",
        "\n",
        "\n",
        "\n"
      ],
      "metadata": {
        "colab": {
          "base_uri": "https://localhost:8080/"
        },
        "id": "9Lk8eYzyRYwe",
        "outputId": "2e45a4c5-5dc1-47c4-e9c6-bf7fa9eb2126"
      },
      "execution_count": null,
      "outputs": [
        {
          "output_type": "stream",
          "name": "stdout",
          "text": [
            "Sample input shape: torch.Size([2, 2, 128, 224, 224])\n",
            "Sample label shape: torch.Size([2, 1, 128, 224, 224])\n"
          ]
        }
      ]
    },
    {
      "cell_type": "code",
      "source": [
        "import numpy as np\n",
        "\n",
        "# Find the maximum dimensions across the dataset\n",
        "max_depth, max_height, max_width = 0, 0, 0\n",
        "\n",
        "for base_name in sorted([f.replace('adc_resampled_', '').replace('.mha', '') for f in os.listdir(adc_dir)]):\n",
        "    adc_img = sitk.GetArrayFromImage(sitk.ReadImage(os.path.join(adc_dir, f\"adc_resampled_{base_name}.mha\")))\n",
        "\n",
        "    # Update maximum dimensions if the current image has larger dimensions\n",
        "    max_depth = max(max_depth, adc_img.shape[0])\n",
        "    max_height = max(max_height, adc_img.shape[1])\n",
        "    max_width = max(max_width, adc_img.shape[2])\n",
        "\n",
        "print(\"Maximum dimensions found:\", max_depth, max_height, max_width)\n"
      ],
      "metadata": {
        "colab": {
          "base_uri": "https://localhost:8080/"
        },
        "id": "c2ks9-8oFZuG",
        "outputId": "5310fcee-645b-42f9-c38d-6b183a31a534"
      },
      "execution_count": null,
      "outputs": [
        {
          "output_type": "stream",
          "name": "stdout",
          "text": [
            "Maximum dimensions found: 168 256 256\n"
          ]
        }
      ]
    },
    {
      "cell_type": "code",
      "source": [
        "class BONBID_Dataset(Dataset):\n",
        "    def __init__(self, adc_dir, z_adc_dir, label_dir, transform=None, target_shape=(256, 380, 224)):\n",
        "        self.adc_dir = adc_dir\n",
        "        self.z_adc_dir = z_adc_dir\n",
        "        self.label_dir = label_dir\n",
        "        self.transform = transform\n",
        "        self.target_shape = target_shape  # Fixed target shape\n",
        "        self.file_names = sorted([f.replace('adc_resampled_', '').replace('.mha', '') for f in os.listdir(adc_dir)])\n",
        "\n",
        "    def __len__(self):\n",
        "        return len(self.file_names)\n",
        "\n",
        "    def load_image(self, file_path):\n",
        "        img = sitk.ReadImage(file_path)\n",
        "        img_array = sitk.GetArrayFromImage(img).astype(np.float32)\n",
        "        return img_array\n",
        "\n",
        "    def resample_image(self, img, target_shape):\n",
        "        img_tensor = torch.tensor(img)  # Convert to tensor\n",
        "        # Use interpolation to resize to target shape\n",
        "        img_resized = F.interpolate(img_tensor.unsqueeze(0).unsqueeze(0), size=target_shape, mode='trilinear', align_corners=False)\n",
        "        return img_resized.squeeze(0).squeeze(0)  # Remove added dimensions\n",
        "\n",
        "    def __getitem__(self, idx):\n",
        "        base_name = self.file_names[idx]\n",
        "\n",
        "        adc_path = os.path.join(self.adc_dir, f\"adc_resampled_{base_name}.mha\")\n",
        "        z_adc_path = os.path.join(self.z_adc_dir, f\"z_adc_resampled_{base_name}.mha\")\n",
        "        label_path = os.path.join(self.label_dir, f\"label_resampled_{base_name}.mha\")\n",
        "\n",
        "        adc_img = self.load_image(adc_path)\n",
        "        z_adc_img = self.load_image(z_adc_path)\n",
        "        label_img = self.load_image(label_path)\n",
        "\n",
        "        # Resample each image to the target shape\n",
        "        adc_img = self.resample_image(adc_img, self.target_shape)\n",
        "        z_adc_img = self.resample_image(z_adc_img, self.target_shape)\n",
        "        label_img = self.resample_image(label_img, self.target_shape)\n",
        "\n",
        "        # Stack ADC and Z_ADC images as channels\n",
        "        input_img = torch.stack([adc_img, z_adc_img], dim=0)\n",
        "        label_img = label_img.unsqueeze(0)  # Add channel dimension for the label\n",
        "\n",
        "        return input_img, label_img\n"
      ],
      "metadata": {
        "id": "JuzeDU9_H4aG"
      },
      "execution_count": null,
      "outputs": []
    },
    {
      "cell_type": "code",
      "source": [
        "# Initialize dataset and data loader with resampling\n",
        "dataset = BONBID_Dataset(adc_dir, z_adc_dir, label_dir, target_shape=(256, 380, 224))\n",
        "data_loader = DataLoader(dataset, batch_size=2, shuffle=True)\n",
        "\n",
        "# Test data loader\n",
        "sample_inputs, sample_labels = next(iter(data_loader))\n",
        "print(\"Sample input shape:\", sample_inputs.shape)  # Expected: [batch_size, 2, 256, 380, 224]\n",
        "print(\"Sample label shape:\", sample_labels.shape)   # Expected: [batch_size, 1, 256, 380, 224]\n"
      ],
      "metadata": {
        "colab": {
          "base_uri": "https://localhost:8080/"
        },
        "id": "oCfuoKH3H8vP",
        "outputId": "2099822b-301c-489d-e772-be65d59427b9"
      },
      "execution_count": null,
      "outputs": [
        {
          "output_type": "stream",
          "name": "stdout",
          "text": [
            "Sample input shape: torch.Size([2, 2, 256, 380, 224])\n",
            "Sample label shape: torch.Size([2, 1, 256, 380, 224])\n"
          ]
        }
      ]
    },
    {
      "cell_type": "code",
      "source": [
        "import torch\n",
        "import torch.nn as nn\n",
        "import torch.nn.functional as F\n",
        "\n",
        "class DoubleConv3D(nn.Module):\n",
        "    \"\"\"(Conv3D => BatchNorm => ReLU) * 2\"\"\"\n",
        "    def __init__(self, in_channels, out_channels):\n",
        "        super(DoubleConv3D, self).__init__()\n",
        "        self.double_conv = nn.Sequential(\n",
        "            nn.Conv3d(in_channels, out_channels, kernel_size=3, padding=1),\n",
        "            nn.BatchNorm3d(out_channels),\n",
        "            nn.ReLU(inplace=True),\n",
        "            nn.Conv3d(out_channels, out_channels, kernel_size=3, padding=1),\n",
        "            nn.BatchNorm3d(out_channels),\n",
        "            nn.ReLU(inplace=True)\n",
        "        )\n",
        "\n",
        "    def forward(self, x):\n",
        "        return self.double_conv(x)\n",
        "\n",
        "class UNet3D(nn.Module):\n",
        "    def __init__(self, in_channels, out_channels):\n",
        "        super(UNet3D, self).__init__()\n",
        "\n",
        "        # Encoder\n",
        "        self.enc1 = DoubleConv3D(in_channels, 64)\n",
        "        self.enc2 = DoubleConv3D(64, 128)\n",
        "        self.enc3 = DoubleConv3D(128, 256)\n",
        "        self.enc4 = DoubleConv3D(256, 512)\n",
        "\n",
        "        # Downsampling layers\n",
        "        self.pool = nn.MaxPool3d(2)\n",
        "\n",
        "        # Bottleneck\n",
        "        self.bottleneck = DoubleConv3D(512, 1024)\n",
        "\n",
        "        # Decoder\n",
        "        self.upconv4 = nn.ConvTranspose3d(1024, 512, kernel_size=2, stride=2)\n",
        "        self.dec4 = DoubleConv3D(1024, 512)\n",
        "\n",
        "        self.upconv3 = nn.ConvTranspose3d(512, 256, kernel_size=2, stride=2)\n",
        "        self.dec3 = DoubleConv3D(512, 256)\n",
        "\n",
        "        self.upconv2 = nn.ConvTranspose3d(256, 128, kernel_size=2, stride=2)\n",
        "        self.dec2 = DoubleConv3D(256, 128)\n",
        "\n",
        "        self.upconv1 = nn.ConvTranspose3d(128, 64, kernel_size=2, stride=2)\n",
        "        self.dec1 = DoubleConv3D(128, 64)\n",
        "\n",
        "        # Output layer\n",
        "        self.out_conv = nn.Conv3d(64, out_channels, kernel_size=1)\n",
        "\n",
        "    def forward(self, x):\n",
        "        # Encoder\n",
        "        enc1 = self.enc1(x)\n",
        "        enc2 = self.enc2(self.pool(enc1))\n",
        "        enc3 = self.enc3(self.pool(enc2))\n",
        "        enc4 = self.enc4(self.pool(enc3))\n",
        "\n",
        "        # Bottleneck\n",
        "        bottleneck = self.bottleneck(self.pool(enc4))\n",
        "\n",
        "        # Decoder\n",
        "        dec4 = self.upconv4(bottleneck)\n",
        "        dec4 = torch.cat((dec4, enc4), dim=1)\n",
        "        dec4 = self.dec4(dec4)\n",
        "\n",
        "        dec3 = self.upconv3(dec4)\n",
        "        dec3 = torch.cat((dec3, enc3), dim=1)\n",
        "        dec3 = self.dec3(dec3)\n",
        "\n",
        "        dec2 = self.upconv2(dec3)\n",
        "        dec2 = torch.cat((dec2, enc2), dim=1)\n",
        "        dec2 = self.dec2(dec2)\n",
        "\n",
        "        dec1 = self.upconv1(dec2)\n",
        "        dec1 = torch.cat((dec1, enc1), dim=1)\n",
        "        dec1 = self.dec1(dec1)\n",
        "\n",
        "        # Output\n",
        "        return self.out_conv(dec1)\n"
      ],
      "metadata": {
        "id": "QKf1HuEjIr-7"
      },
      "execution_count": null,
      "outputs": []
    },
    {
      "cell_type": "code",
      "source": [
        "# Initialize the model\n",
        "in_channels = 2  # Input channels (ADC and Z_ADC)\n",
        "out_channels = 1  # Binary segmentation (lesion vs. non-lesion)\n",
        "\n",
        "model = UNet3D(in_channels, out_channels)\n",
        "\n",
        "# Print model summary\n",
        "print(model)\n"
      ],
      "metadata": {
        "colab": {
          "base_uri": "https://localhost:8080/"
        },
        "id": "HuGuHcpkItzP",
        "outputId": "8ab7f2fd-58da-4fef-f666-3ab6539acaec"
      },
      "execution_count": null,
      "outputs": [
        {
          "output_type": "stream",
          "name": "stdout",
          "text": [
            "UNet3D(\n",
            "  (enc1): DoubleConv3D(\n",
            "    (double_conv): Sequential(\n",
            "      (0): Conv3d(2, 64, kernel_size=(3, 3, 3), stride=(1, 1, 1), padding=(1, 1, 1))\n",
            "      (1): BatchNorm3d(64, eps=1e-05, momentum=0.1, affine=True, track_running_stats=True)\n",
            "      (2): ReLU(inplace=True)\n",
            "      (3): Conv3d(64, 64, kernel_size=(3, 3, 3), stride=(1, 1, 1), padding=(1, 1, 1))\n",
            "      (4): BatchNorm3d(64, eps=1e-05, momentum=0.1, affine=True, track_running_stats=True)\n",
            "      (5): ReLU(inplace=True)\n",
            "    )\n",
            "  )\n",
            "  (enc2): DoubleConv3D(\n",
            "    (double_conv): Sequential(\n",
            "      (0): Conv3d(64, 128, kernel_size=(3, 3, 3), stride=(1, 1, 1), padding=(1, 1, 1))\n",
            "      (1): BatchNorm3d(128, eps=1e-05, momentum=0.1, affine=True, track_running_stats=True)\n",
            "      (2): ReLU(inplace=True)\n",
            "      (3): Conv3d(128, 128, kernel_size=(3, 3, 3), stride=(1, 1, 1), padding=(1, 1, 1))\n",
            "      (4): BatchNorm3d(128, eps=1e-05, momentum=0.1, affine=True, track_running_stats=True)\n",
            "      (5): ReLU(inplace=True)\n",
            "    )\n",
            "  )\n",
            "  (enc3): DoubleConv3D(\n",
            "    (double_conv): Sequential(\n",
            "      (0): Conv3d(128, 256, kernel_size=(3, 3, 3), stride=(1, 1, 1), padding=(1, 1, 1))\n",
            "      (1): BatchNorm3d(256, eps=1e-05, momentum=0.1, affine=True, track_running_stats=True)\n",
            "      (2): ReLU(inplace=True)\n",
            "      (3): Conv3d(256, 256, kernel_size=(3, 3, 3), stride=(1, 1, 1), padding=(1, 1, 1))\n",
            "      (4): BatchNorm3d(256, eps=1e-05, momentum=0.1, affine=True, track_running_stats=True)\n",
            "      (5): ReLU(inplace=True)\n",
            "    )\n",
            "  )\n",
            "  (enc4): DoubleConv3D(\n",
            "    (double_conv): Sequential(\n",
            "      (0): Conv3d(256, 512, kernel_size=(3, 3, 3), stride=(1, 1, 1), padding=(1, 1, 1))\n",
            "      (1): BatchNorm3d(512, eps=1e-05, momentum=0.1, affine=True, track_running_stats=True)\n",
            "      (2): ReLU(inplace=True)\n",
            "      (3): Conv3d(512, 512, kernel_size=(3, 3, 3), stride=(1, 1, 1), padding=(1, 1, 1))\n",
            "      (4): BatchNorm3d(512, eps=1e-05, momentum=0.1, affine=True, track_running_stats=True)\n",
            "      (5): ReLU(inplace=True)\n",
            "    )\n",
            "  )\n",
            "  (pool): MaxPool3d(kernel_size=2, stride=2, padding=0, dilation=1, ceil_mode=False)\n",
            "  (bottleneck): DoubleConv3D(\n",
            "    (double_conv): Sequential(\n",
            "      (0): Conv3d(512, 1024, kernel_size=(3, 3, 3), stride=(1, 1, 1), padding=(1, 1, 1))\n",
            "      (1): BatchNorm3d(1024, eps=1e-05, momentum=0.1, affine=True, track_running_stats=True)\n",
            "      (2): ReLU(inplace=True)\n",
            "      (3): Conv3d(1024, 1024, kernel_size=(3, 3, 3), stride=(1, 1, 1), padding=(1, 1, 1))\n",
            "      (4): BatchNorm3d(1024, eps=1e-05, momentum=0.1, affine=True, track_running_stats=True)\n",
            "      (5): ReLU(inplace=True)\n",
            "    )\n",
            "  )\n",
            "  (upconv4): ConvTranspose3d(1024, 512, kernel_size=(2, 2, 2), stride=(2, 2, 2))\n",
            "  (dec4): DoubleConv3D(\n",
            "    (double_conv): Sequential(\n",
            "      (0): Conv3d(1024, 512, kernel_size=(3, 3, 3), stride=(1, 1, 1), padding=(1, 1, 1))\n",
            "      (1): BatchNorm3d(512, eps=1e-05, momentum=0.1, affine=True, track_running_stats=True)\n",
            "      (2): ReLU(inplace=True)\n",
            "      (3): Conv3d(512, 512, kernel_size=(3, 3, 3), stride=(1, 1, 1), padding=(1, 1, 1))\n",
            "      (4): BatchNorm3d(512, eps=1e-05, momentum=0.1, affine=True, track_running_stats=True)\n",
            "      (5): ReLU(inplace=True)\n",
            "    )\n",
            "  )\n",
            "  (upconv3): ConvTranspose3d(512, 256, kernel_size=(2, 2, 2), stride=(2, 2, 2))\n",
            "  (dec3): DoubleConv3D(\n",
            "    (double_conv): Sequential(\n",
            "      (0): Conv3d(512, 256, kernel_size=(3, 3, 3), stride=(1, 1, 1), padding=(1, 1, 1))\n",
            "      (1): BatchNorm3d(256, eps=1e-05, momentum=0.1, affine=True, track_running_stats=True)\n",
            "      (2): ReLU(inplace=True)\n",
            "      (3): Conv3d(256, 256, kernel_size=(3, 3, 3), stride=(1, 1, 1), padding=(1, 1, 1))\n",
            "      (4): BatchNorm3d(256, eps=1e-05, momentum=0.1, affine=True, track_running_stats=True)\n",
            "      (5): ReLU(inplace=True)\n",
            "    )\n",
            "  )\n",
            "  (upconv2): ConvTranspose3d(256, 128, kernel_size=(2, 2, 2), stride=(2, 2, 2))\n",
            "  (dec2): DoubleConv3D(\n",
            "    (double_conv): Sequential(\n",
            "      (0): Conv3d(256, 128, kernel_size=(3, 3, 3), stride=(1, 1, 1), padding=(1, 1, 1))\n",
            "      (1): BatchNorm3d(128, eps=1e-05, momentum=0.1, affine=True, track_running_stats=True)\n",
            "      (2): ReLU(inplace=True)\n",
            "      (3): Conv3d(128, 128, kernel_size=(3, 3, 3), stride=(1, 1, 1), padding=(1, 1, 1))\n",
            "      (4): BatchNorm3d(128, eps=1e-05, momentum=0.1, affine=True, track_running_stats=True)\n",
            "      (5): ReLU(inplace=True)\n",
            "    )\n",
            "  )\n",
            "  (upconv1): ConvTranspose3d(128, 64, kernel_size=(2, 2, 2), stride=(2, 2, 2))\n",
            "  (dec1): DoubleConv3D(\n",
            "    (double_conv): Sequential(\n",
            "      (0): Conv3d(128, 64, kernel_size=(3, 3, 3), stride=(1, 1, 1), padding=(1, 1, 1))\n",
            "      (1): BatchNorm3d(64, eps=1e-05, momentum=0.1, affine=True, track_running_stats=True)\n",
            "      (2): ReLU(inplace=True)\n",
            "      (3): Conv3d(64, 64, kernel_size=(3, 3, 3), stride=(1, 1, 1), padding=(1, 1, 1))\n",
            "      (4): BatchNorm3d(64, eps=1e-05, momentum=0.1, affine=True, track_running_stats=True)\n",
            "      (5): ReLU(inplace=True)\n",
            "    )\n",
            "  )\n",
            "  (out_conv): Conv3d(64, 1, kernel_size=(1, 1, 1), stride=(1, 1, 1))\n",
            ")\n"
          ]
        }
      ]
    },
    {
      "cell_type": "code",
      "source": [
        "import torch.optim as optim\n",
        "\n",
        "# Loss function\n",
        "criterion = nn.BCEWithLogitsLoss()  # Good for binary segmentation\n",
        "# Optimizer\n",
        "optimizer = optim.Adam(model.parameters(), lr=1e-4)\n"
      ],
      "metadata": {
        "id": "gSmyeU5mIy16"
      },
      "execution_count": null,
      "outputs": []
    },
    {
      "cell_type": "markdown",
      "source": [
        "Dice Coefficient Metric"
      ],
      "metadata": {
        "id": "cPpLmtSOJC2U"
      }
    },
    {
      "cell_type": "code",
      "source": [
        "def dice_coefficient(preds, targets, threshold=0.5):\n",
        "    # Apply threshold to predictions\n",
        "    preds = (preds > threshold).float()\n",
        "\n",
        "    intersection = (preds * targets).sum()\n",
        "    union = preds.sum() + targets.sum()\n",
        "    dice = (2.0 * intersection + 1e-5) / (union + 1e-5)\n",
        "\n",
        "    return dice\n"
      ],
      "metadata": {
        "id": "7uBFTN7zJB4E"
      },
      "execution_count": null,
      "outputs": []
    },
    {
      "cell_type": "markdown",
      "source": [
        "Training and Validation Loops"
      ],
      "metadata": {
        "id": "MH_ri4ceJHQe"
      }
    },
    {
      "cell_type": "code",
      "source": [
        "import torch\n",
        "import torch.optim as optim\n",
        "\n",
        "\n",
        "# Set device\n",
        "device = torch.device(\"cuda\" if torch.cuda.is_available() else \"cpu\")\n",
        "print(f\"Using device: {device}\")\n",
        "\n",
        "# Initialize model, criterion, optimizer\n",
        "model = UNet3D(in_channels=2, out_channels=1).to(device)\n",
        "criterion = nn.BCEWithLogitsLoss()  # Use BCE with logits for binary segmentation\n",
        "optimizer = optim.Adam(model.parameters(), lr=1e-4)\n",
        "\n",
        "# Training and validation functions\n",
        "def train_one_epoch(model, data_loader, criterion, optimizer, device):\n",
        "    model.train()\n",
        "    epoch_loss = 0\n",
        "    for inputs, labels in data_loader:\n",
        "        inputs, labels = inputs.to(device), labels.to(device)\n",
        "\n",
        "        # Forward pass\n",
        "        outputs = model(inputs)\n",
        "        loss = criterion(outputs, labels)\n",
        "\n",
        "        # Backward pass and optimization\n",
        "        optimizer.zero_grad()\n",
        "        loss.backward()\n",
        "        optimizer.step()\n",
        "\n",
        "        epoch_loss += loss.item()\n",
        "\n",
        "    return epoch_loss / len(data_loader)\n",
        "\n",
        "def validate_one_epoch(model, data_loader, criterion, device):\n",
        "    model.eval()\n",
        "    epoch_loss = 0\n",
        "    dice_score = 0\n",
        "\n",
        "    with torch.no_grad():\n",
        "        for inputs, labels in data_loader:\n",
        "            inputs, labels = inputs.to(device), labels.to(device)\n",
        "\n",
        "            # Forward pass\n",
        "            outputs = model(inputs)\n",
        "            loss = criterion(outputs, labels)\n",
        "            epoch_loss += loss.item()\n",
        "\n",
        "            # Compute Dice coefficient\n",
        "            dice_score += dice_coefficient(outputs.sigmoid(), labels).item()\n",
        "\n",
        "    return epoch_loss / len(data_loader), dice_score / len(data_loader)\n"
      ],
      "metadata": {
        "colab": {
          "base_uri": "https://localhost:8080/"
        },
        "id": "YTTe6n2rJHtd",
        "outputId": "45969d88-b461-4c88-8f43-892f19f55bbc"
      },
      "execution_count": null,
      "outputs": [
        {
          "output_type": "stream",
          "name": "stdout",
          "text": [
            "Using device: cpu\n"
          ]
        }
      ]
    },
    {
      "cell_type": "markdown",
      "source": [
        "Setting Up Train and Validation Data Loaders"
      ],
      "metadata": {
        "id": "nIzCIThgJwWG"
      }
    },
    {
      "cell_type": "code",
      "source": [
        "from torch.utils.data import DataLoader, random_split\n",
        "\n",
        "# Define the dataset\n",
        "dataset = BONBID_Dataset(adc_dir, z_adc_dir, label_dir, target_shape=(256, 380, 224))\n",
        "\n",
        "# Split into training and validation datasets (e.g., 80% train, 20% validation)\n",
        "train_size = int(0.8 * len(dataset))\n",
        "val_size = len(dataset) - train_size\n",
        "train_dataset, val_dataset = random_split(dataset, [train_size, val_size])\n",
        "\n",
        "# Create data loaders\n",
        "train_loader = DataLoader(train_dataset, batch_size=2, shuffle=True)\n",
        "val_loader = DataLoader(val_dataset, batch_size=2, shuffle=False)\n"
      ],
      "metadata": {
        "colab": {
          "base_uri": "https://localhost:8080/",
          "height": 245
        },
        "id": "_t-L24s7Jw7D",
        "outputId": "90d80480-4a51-47e7-d85c-fabd880b454d"
      },
      "execution_count": null,
      "outputs": [
        {
          "output_type": "error",
          "ename": "NameError",
          "evalue": "name 'BONBID_Dataset' is not defined",
          "traceback": [
            "\u001b[0;31m---------------------------------------------------------------------------\u001b[0m",
            "\u001b[0;31mNameError\u001b[0m                                 Traceback (most recent call last)",
            "\u001b[0;32m<ipython-input-4-5956b7d9460e>\u001b[0m in \u001b[0;36m<cell line: 4>\u001b[0;34m()\u001b[0m\n\u001b[1;32m      2\u001b[0m \u001b[0;34m\u001b[0m\u001b[0m\n\u001b[1;32m      3\u001b[0m \u001b[0;31m# Define the dataset\u001b[0m\u001b[0;34m\u001b[0m\u001b[0;34m\u001b[0m\u001b[0m\n\u001b[0;32m----> 4\u001b[0;31m \u001b[0mdataset\u001b[0m \u001b[0;34m=\u001b[0m \u001b[0mBONBID_Dataset\u001b[0m\u001b[0;34m(\u001b[0m\u001b[0madc_dir\u001b[0m\u001b[0;34m,\u001b[0m \u001b[0mz_adc_dir\u001b[0m\u001b[0;34m,\u001b[0m \u001b[0mlabel_dir\u001b[0m\u001b[0;34m,\u001b[0m \u001b[0mtarget_shape\u001b[0m\u001b[0;34m=\u001b[0m\u001b[0;34m(\u001b[0m\u001b[0;36m256\u001b[0m\u001b[0;34m,\u001b[0m \u001b[0;36m380\u001b[0m\u001b[0;34m,\u001b[0m \u001b[0;36m224\u001b[0m\u001b[0;34m)\u001b[0m\u001b[0;34m)\u001b[0m\u001b[0;34m\u001b[0m\u001b[0;34m\u001b[0m\u001b[0m\n\u001b[0m\u001b[1;32m      5\u001b[0m \u001b[0;34m\u001b[0m\u001b[0m\n\u001b[1;32m      6\u001b[0m \u001b[0;31m# Split into training and validation datasets (e.g., 80% train, 20% validation)\u001b[0m\u001b[0;34m\u001b[0m\u001b[0;34m\u001b[0m\u001b[0m\n",
            "\u001b[0;31mNameError\u001b[0m: name 'BONBID_Dataset' is not defined"
          ]
        }
      ]
    }
  ]
}
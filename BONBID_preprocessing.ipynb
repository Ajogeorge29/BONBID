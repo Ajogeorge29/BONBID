{
  "nbformat": 4,
  "nbformat_minor": 0,
  "metadata": {
    "colab": {
      "provenance": [],
      "gpuType": "T4",
      "mount_file_id": "1E1vw5i062ZtoupYR2q0UMz3TTx92J-QN",
      "authorship_tag": "ABX9TyN5JFFQfF1pbDC1NgaQoDdu",
      "include_colab_link": true
    },
    "kernelspec": {
      "name": "python3",
      "display_name": "Python 3"
    },
    "language_info": {
      "name": "python"
    },
    "accelerator": "GPU"
  },
  "cells": [
    {
      "cell_type": "markdown",
      "metadata": {
        "id": "view-in-github",
        "colab_type": "text"
      },
      "source": [
        "<a href=\"https://colab.research.google.com/github/Ajogeorge29/BONBID/blob/main/BONBID_preprocessing.ipynb\" target=\"_parent\"><img src=\"https://colab.research.google.com/assets/colab-badge.svg\" alt=\"Open In Colab\"/></a>"
      ]
    },
    {
      "cell_type": "code",
      "execution_count": null,
      "metadata": {
        "id": "RefctwlUCtYT",
        "colab": {
          "base_uri": "https://localhost:8080/"
        },
        "outputId": "2062e4c3-c309-4ea5-88dd-315c9ca3fa25"
      },
      "outputs": [
        {
          "output_type": "stream",
          "name": "stdout",
          "text": [
            "Collecting SimpleITK\n",
            "  Downloading SimpleITK-2.4.0-cp310-cp310-manylinux_2_17_x86_64.manylinux2014_x86_64.whl.metadata (7.9 kB)\n",
            "Downloading SimpleITK-2.4.0-cp310-cp310-manylinux_2_17_x86_64.manylinux2014_x86_64.whl (52.4 MB)\n",
            "\u001b[2K   \u001b[90m━━━━━━━━━━━━━━━━━━━━━━━━━━━━━━━━━━━━━━━━\u001b[0m \u001b[32m52.4/52.4 MB\u001b[0m \u001b[31m11.3 MB/s\u001b[0m eta \u001b[36m0:00:00\u001b[0m\n",
            "\u001b[?25hInstalling collected packages: SimpleITK\n",
            "Successfully installed SimpleITK-2.4.0\n",
            "Requirement already satisfied: numpy in /usr/local/lib/python3.10/dist-packages (1.26.4)\n"
          ]
        }
      ],
      "source": [
        "!pip install SimpleITK\n",
        "!pip install numpy\n"
      ]
    },
    {
      "cell_type": "code",
      "source": [
        "from google.colab import drive\n",
        "drive.mount('/content/drive')\n"
      ],
      "metadata": {
        "colab": {
          "base_uri": "https://localhost:8080/"
        },
        "id": "x_6gbXySIFaV",
        "outputId": "ac8624c9-2cc6-4f43-a49c-ab0b25947110"
      },
      "execution_count": null,
      "outputs": [
        {
          "output_type": "stream",
          "name": "stdout",
          "text": [
            "Drive already mounted at /content/drive; to attempt to forcibly remount, call drive.mount(\"/content/drive\", force_remount=True).\n"
          ]
        }
      ]
    },
    {
      "cell_type": "code",
      "source": [
        "adc_dir = \"/content/drive/MyDrive/BONBID CHALLENGE 2024/challenge harward/BONBID2023_Train/BONBID2023_Train/1ADC_ss\"\n",
        "z_adc_dir = \"/content/drive/MyDrive/BONBID CHALLENGE 2024/challenge harward/BONBID2023_Train/BONBID2023_Train/2Z_ADC\"\n",
        "label_dir = \"/content/drive/MyDrive/BONBID CHALLENGE 2024/challenge harward/BONBID2023_Train/BONBID2023_Train/3LABEL\"\n"
      ],
      "metadata": {
        "id": "hfEQAH-dWszZ"
      },
      "execution_count": null,
      "outputs": []
    },
    {
      "cell_type": "code",
      "source": [
        "\n",
        "\n",
        "import SimpleITK as sitk\n",
        "import numpy as np\n",
        "import os\n",
        "# Define a function to load .mha files\n",
        "def load_mha_file(file_path):\n",
        "    \"\"\"\n",
        "    Load an .mha file and return the image array along with the SimpleITK image object.\n",
        "    \"\"\"\n",
        "    img = sitk.ReadImage(file_path)\n",
        "    img_array = sitk.GetArrayFromImage(img)\n",
        "    return img_array, img\n",
        "\n",
        "adc_dir = \"/content/drive/MyDrive/BONBID CHALLENGE 2024/challenge harward/BONBID2023_Train/BONBID2023_Train/1ADC_ss\"\n",
        "z_adc_dir = \"/content/drive/MyDrive/BONBID CHALLENGE 2024/challenge harward/BONBID2023_Train/BONBID2023_Train/2Z_ADC\"\n",
        "label_dir = \"/content/drive/MyDrive/BONBID CHALLENGE 2024/challenge harward/BONBID2023_Train/BONBID2023_Train/3LABEL\"\n",
        "\n",
        "# Load an example .mha file for inspection\n",
        "adc_example, adc_image = load_mha_file(os.path.join(adc_dir, \"MGHNICU_010-VISIT_01-ADC_ss.mha\"))\n",
        "z_adc_example, z_adc_image = load_mha_file(os.path.join(z_adc_dir, \"Zmap_MGHNICU_010-VISIT_01-ADC_smooth2mm_clipped10.mha\"))\n",
        "label_example, label_image = load_mha_file(os.path.join(label_dir, \"MGHNICU_010-VISIT_01_lesion.mha\"))\n",
        "\n",
        "# Print basic info about the loaded data\n",
        "print(f\"ADC shape: {adc_example.shape}\")\n",
        "print(f\"Z_ADC shape: {z_adc_example.shape}\")\n",
        "print(f\"Label shape: {label_example.shape}\")\n"
      ],
      "metadata": {
        "colab": {
          "base_uri": "https://localhost:8080/"
        },
        "id": "9VAe5cUIfixT",
        "outputId": "e60212a2-c14d-41f7-d149-d8f85b3448d3"
      },
      "execution_count": null,
      "outputs": [
        {
          "output_type": "stream",
          "name": "stdout",
          "text": [
            "ADC shape: (23, 128, 128)\n",
            "Z_ADC shape: (23, 128, 128)\n",
            "Label shape: (23, 128, 128)\n"
          ]
        }
      ]
    },
    {
      "cell_type": "markdown",
      "source": [
        "/content/drive/MyDrive/BONBID CHALLENGE 2024/challenge harward/BONBID2023_Train/BONBID2023_Train/2Z_ADC/Zmap_MGHNICU_010-VISIT_01-ADC_smooth2mm_clipped10.mha\n",
        "\n",
        "/content/drive/MyDrive/BONBID CHALLENGE 2024/challenge harward/BONBID2023_Train/BONBID2023_Train/3LABEL/MGHNICU_010-VISIT_01_lesion.mha"
      ],
      "metadata": {
        "id": "NkiyE9dBgoSN"
      }
    },
    {
      "cell_type": "code",
      "source": [
        "# Normalization function\n",
        "def normalize_image(img_array):\n",
        "    mean = np.mean(img_array)\n",
        "    std = np.std(img_array)\n",
        "    return (img_array - mean) / std\n",
        "\n",
        "# Apply normalization\n",
        "adc_normalized = normalize_image(adc_example)\n",
        "z_adc_normalized = normalize_image(z_adc_example)\n",
        "\n",
        "# Resample function\n",
        "def resample_image(img, new_spacing=[1.0, 1.0, 1.0]):\n",
        "    original_spacing = img.GetSpacing()\n",
        "    original_size = img.GetSize()\n",
        "\n",
        "    new_size = [\n",
        "        int(round(original_size[i] * (original_spacing[i] / new_spacing[i])))\n",
        "        for i in range(3)\n",
        "    ]\n",
        "\n",
        "    resample = sitk.ResampleImageFilter()\n",
        "    resample.SetOutputSpacing(new_spacing)\n",
        "    resample.SetSize(new_size)\n",
        "    resample.SetInterpolator(sitk.sitkLinear)\n",
        "    resample.SetOutputDirection(img.GetDirection())\n",
        "    resample.SetOutputOrigin(img.GetOrigin())\n",
        "    resample.SetTransform(sitk.Transform())\n",
        "\n",
        "    img_resampled = resample.Execute(img)\n",
        "    return img_resampled\n",
        "\n",
        "# Apply resampling to an ADC example\n",
        "adc_resampled = resample_image(adc_image)\n",
        "\n",
        "# Convert back to numpy array to inspect\n",
        "adc_resampled_array = sitk.GetArrayFromImage(adc_resampled)\n",
        "print(f\"Resampled ADC shape: {adc_resampled_array.shape}\")\n"
      ],
      "metadata": {
        "colab": {
          "base_uri": "https://localhost:8080/"
        },
        "id": "PnamIrQzgzun",
        "outputId": "35c60aeb-b399-402f-b6a5-ee65022096a6"
      },
      "execution_count": null,
      "outputs": [
        {
          "output_type": "stream",
          "name": "stdout",
          "text": [
            "Resampled ADC shape: (92, 200, 200)\n"
          ]
        }
      ]
    },
    {
      "cell_type": "code",
      "source": [
        "print(\"Files in ADC_ss:\", os.listdir(adc_dir))\n",
        "print(\"Files in Z_ADC:\", os.listdir(z_adc_dir))\n",
        "print(\"Files in LABEL:\", os.listdir(label_dir))\n"
      ],
      "metadata": {
        "colab": {
          "base_uri": "https://localhost:8080/"
        },
        "id": "DgCwsi8gi1v2",
        "outputId": "dc827a5e-2033-4166-cd40-4f81d532d0d3"
      },
      "execution_count": null,
      "outputs": [
        {
          "output_type": "stream",
          "name": "stdout",
          "text": [
            "Files in ADC_ss: ['MGHNICU_178-VISIT_01-ADC_ss.mha', 'MGHNICU_405-VISIT_01-ADC_ss.mha', 'MGHNICU_014-VISIT_01-ADC_ss.mha', 'MGHNICU_455-VISIT_01-ADC_ss.mha', 'MGHNICU_336-VISIT_01-ADC_ss.mha', 'MGHNICU_456-VISIT_01-ADC_ss.mha', 'MGHNICU_209-VISIT_01-ADC_ss.mha', 'MGHNICU_454-VISIT_01-ADC_ss.mha', 'MGHNICU_457-VISIT_01-ADC_ss.mha', 'MGHNICU_015-VISIT_01-ADC_ss.mha', 'MGHNICU_331-VISIT_01-ADC_ss.mha', 'MGHNICU_453-VISIT_01-ADC_ss.mha', 'MGHNICU_393-VISIT_01-ADC_ss.mha', 'MGHNICU_379-VISIT_01-ADC_ss.mha', 'MGHNICU_362-VISIT_01-ADC_ss.mha', 'MGHNICU_214-VISIT_01-ADC_ss.mha', 'MGHNICU_452-VISIT_01-ADC_ss.mha', 'MGHNICU_197-VISIT_01-ADC_ss.mha', 'MGHNICU_449-VISIT_01-ADC_ss.mha', 'MGHNICU_448-VISIT_01-ADC_ss.mha', 'MGHNICU_403-VISIT_01-ADC_ss.mha', 'MGHNICU_215-VISIT_01-ADC_ss.mha', 'MGHNICU_329-VISIT_01-ADC_ss.mha', 'MGHNICU_010-VISIT_01-ADC_ss.mha', 'MGHNICU_173-VISIT_01-ADC_ss.mha', 'MGHNICU_447-VISIT_01-ADC_ss.mha', 'MGHNICU_415-VISIT_01-ADC_ss.mha', 'MGHNICU_445-VISIT_01-ADC_ss.mha', 'MGHNICU_444-VISIT_01-ADC_ss.mha', 'MGHNICU_378-VISIT_01-ADC_ss.mha', 'MGHNICU_446-VISIT_01-ADC_ss.mha', 'MGHNICU_377-VISIT_01-ADC_ss.mha', 'MGHNICU_174-VISIT_01-ADC_ss.mha', 'MGHNICU_338-VISIT_01-ADC_ss.mha', 'MGHNICU_442-VISIT_01-ADC_ss.mha', 'MGHNICU_376-VISIT_01-ADC_ss.mha', 'MGHNICU_323-VISIT_01-ADC_ss.mha', 'MGHNICU_370-VISIT_01-ADC_ss.mha', 'MGHNICU_125-VISIT_01-ADC_ss.mha', 'MGHNICU_028-VISIT_01-ADC_ss.mha', 'MGHNICU_458-VISIT_01-ADC_ss.mha', 'MGHNICU_234-VISIT_01-ADC_ss.mha', 'MGHNICU_440-VISIT_01-ADC_ss.mha', 'MGHNICU_373-VISIT_01-ADC_ss.mha', 'MGHNICU_441-VISIT_01-ADC_ss.mha', 'MGHNICU_439-VISIT_01-ADC_ss.mha', 'MGHNICU_312-VISIT_01-ADC_ss.mha', 'MGHNICU_346-VISIT_01-ADC_ss.mha', 'MGHNICU_438-VISIT_01-ADC_ss.mha', 'MGHNICU_062-VISIT_01-ADC_ss.mha', 'MGHNICU_064-VISIT_01-ADC_ss.mha', 'MGHNICU_358-VISIT_01-ADC_ss.mha', 'MGHNICU_144-VISIT_01-ADC_ss.mha', 'MGHNICU_310-VISIT_01-ADC_ss.mha', 'MGHNICU_231-VISIT_01-ADC_ss.mha', 'MGHNICU_359-VISIT_01-ADC_ss.mha', 'MGHNICU_309-VISIT_01-ADC_ss.mha', 'MGHNICU_264-VISIT_01-ADC_ss.mha', 'MGHNICU_350-VISIT_01-ADC_ss.mha', 'MGHNICU_109-VISIT_01-ADC_ss.mha', 'MGHNICU_433-VISIT_01-ADC_ss.mha', 'MGHNICU_432-VISIT_01-ADC_ss.mha', 'MGHNICU_290-VISIT_01-ADC_ss.mha', 'MGHNICU_348-VISIT_01-ADC_ss.mha', 'MGHNICU_263-VISIT_01-ADC_ss.mha', 'MGHNICU_105-VISIT_01-ADC_ss.mha', 'MGHNICU_262-VISIT_01-ADC_ss.mha', 'MGHNICU_303-VISIT_01-ADC_ss.mha', 'MGHNICU_275-VISIT_01-ADC_ss.mha', 'MGHNICU_070-VISIT_01-ADC_ss.mha', 'MGHNICU_071-VISIT_01-ADC_ss.mha', 'MGHNICU_072-VISIT_01-ADC_ss.mha', 'MGHNICU_286-VISIT_01-ADC_ss.mha', 'MGHNICU_069-VISIT_01-ADC_ss.mha', 'MGHNICU_101-VISIT_01-ADC_ss.mha', 'MGHNICU_299-VISIT_01-ADC_ss.mha', 'MGHNICU_437-VISIT_01-ADC_ss.mha', 'MGHNICU_305-VISIT_01-ADC_ss.mha', 'MGHNICU_272-VISIT_01-ADC_ss.mha', 'MGHNICU_074-VISIT_01-ADC_ss.mha', 'MGHNICU_435-VISIT_01-ADC_ss.mha', 'MGHNICU_077-VISIT_01-ADC_ss.mha', 'MGHNICU_355-VISIT_01-ADC_ss.mha', 'MGHNICU_153-VISIT_01-ADC_ss.mha', 'MGHNICU_306-VISIT_01-ADC_ss.mha']\n",
            "Files in Z_ADC: ['Zmap_MGHNICU_197-VISIT_01-ADC_smooth2mm_clipped10.mha', 'Zmap_MGHNICU_290-VISIT_01-ADC_smooth2mm_clipped10.mha', 'Zmap_MGHNICU_449-VISIT_01-ADC_smooth2mm_clipped10.mha', 'Zmap_MGHNICU_439-VISIT_01-ADC_smooth2mm_clipped10.mha', 'Zmap_MGHNICU_209-VISIT_01-ADC_smooth2mm_clipped10.mha', 'Zmap_MGHNICU_438-VISIT_01-ADC_smooth2mm_clipped10.mha', 'Zmap_MGHNICU_448-VISIT_01-ADC_smooth2mm_clipped10.mha', 'Zmap_MGHNICU_109-VISIT_01-ADC_smooth2mm_clipped10.mha', 'Zmap_MGHNICU_393-VISIT_01-ADC_smooth2mm_clipped10.mha', 'Zmap_MGHNICU_178-VISIT_01-ADC_smooth2mm_clipped10.mha', 'Zmap_MGHNICU_173-VISIT_01-ADC_smooth2mm_clipped10.mha', 'Zmap_MGHNICU_286-VISIT_01-ADC_smooth2mm_clipped10.mha', 'Zmap_MGHNICU_458-VISIT_01-ADC_smooth2mm_clipped10.mha', 'Zmap_MGHNICU_214-VISIT_01-ADC_smooth2mm_clipped10.mha', 'Zmap_MGHNICU_346-VISIT_01-ADC_smooth2mm_clipped10.mha', 'Zmap_MGHNICU_442-VISIT_01-ADC_smooth2mm_clipped10.mha', 'Zmap_MGHNICU_455-VISIT_01-ADC_smooth2mm_clipped10.mha', 'Zmap_MGHNICU_153-VISIT_01-ADC_smooth2mm_clipped10.mha', 'Zmap_MGHNICU_234-VISIT_01-ADC_smooth2mm_clipped10.mha', 'Zmap_MGHNICU_174-VISIT_01-ADC_smooth2mm_clipped10.mha', 'Zmap_MGHNICU_376-VISIT_01-ADC_smooth2mm_clipped10.mha', 'Zmap_MGHNICU_144-VISIT_01-ADC_smooth2mm_clipped10.mha', 'Zmap_MGHNICU_432-VISIT_01-ADC_smooth2mm_clipped10.mha', 'Zmap_MGHNICU_452-VISIT_01-ADC_smooth2mm_clipped10.mha', 'Zmap_MGHNICU_445-VISIT_01-ADC_smooth2mm_clipped10.mha', 'Zmap_MGHNICU_306-VISIT_01-ADC_smooth2mm_clipped10.mha', 'Zmap_MGHNICU_435-VISIT_01-ADC_smooth2mm_clipped10.mha', 'Zmap_MGHNICU_071-VISIT_01-ADC_smooth2mm_clipped10.mha', 'Zmap_MGHNICU_264-VISIT_01-ADC_smooth2mm_clipped10.mha', 'Zmap_MGHNICU_263-VISIT_01-ADC_smooth2mm_clipped10.mha', 'Zmap_MGHNICU_415-VISIT_01-ADC_smooth2mm_clipped10.mha', 'Zmap_MGHNICU_454-VISIT_01-ADC_smooth2mm_clipped10.mha', 'Zmap_MGHNICU_336-VISIT_01-ADC_smooth2mm_clipped10.mha', 'Zmap_MGHNICU_331-VISIT_01-ADC_smooth2mm_clipped10.mha', 'Zmap_MGHNICU_405-VISIT_01-ADC_smooth2mm_clipped10.mha', 'Zmap_MGHNICU_350-VISIT_01-ADC_smooth2mm_clipped10.mha', 'Zmap_MGHNICU_444-VISIT_01-ADC_smooth2mm_clipped10.mha', 'Zmap_MGHNICU_370-VISIT_01-ADC_smooth2mm_clipped10.mha', 'Zmap_MGHNICU_010-VISIT_01-ADC_smooth2mm_clipped10.mha', 'Zmap_MGHNICU_453-VISIT_01-ADC_smooth2mm_clipped10.mha', 'Zmap_MGHNICU_272-VISIT_01-ADC_smooth2mm_clipped10.mha', 'Zmap_MGHNICU_215-VISIT_01-ADC_smooth2mm_clipped10.mha', 'Zmap_MGHNICU_377-VISIT_01-ADC_smooth2mm_clipped10.mha', 'Zmap_MGHNICU_275-VISIT_01-ADC_smooth2mm_clipped10.mha', 'Zmap_MGHNICU_262-VISIT_01-ADC_smooth2mm_clipped10.mha', 'Zmap_MGHNICU_403-VISIT_01-ADC_smooth2mm_clipped10.mha', 'Zmap_MGHNICU_433-VISIT_01-ADC_smooth2mm_clipped10.mha', 'Zmap_MGHNICU_105-VISIT_01-ADC_smooth2mm_clipped10.mha', 'Zmap_MGHNICU_446-VISIT_01-ADC_smooth2mm_clipped10.mha', 'Zmap_MGHNICU_362-VISIT_01-ADC_smooth2mm_clipped10.mha', 'Zmap_MGHNICU_077-VISIT_01-ADC_smooth2mm_clipped10.mha', 'Zmap_MGHNICU_015-VISIT_01-ADC_smooth2mm_clipped10.mha', 'Zmap_MGHNICU_070-VISIT_01-ADC_smooth2mm_clipped10.mha', 'Zmap_MGHNICU_441-VISIT_01-ADC_smooth2mm_clipped10.mha', 'Zmap_MGHNICU_456-VISIT_01-ADC_smooth2mm_clipped10.mha', 'Zmap_MGHNICU_310-VISIT_01-ADC_smooth2mm_clipped10.mha', 'Zmap_MGHNICU_125-VISIT_01-ADC_smooth2mm_clipped10.mha', 'Zmap_MGHNICU_299-VISIT_01-ADC_smooth2mm_clipped10.mha', 'Zmap_MGHNICU_312-VISIT_01-ADC_smooth2mm_clipped10.mha', 'Zmap_MGHNICU_373-VISIT_01-ADC_smooth2mm_clipped10.mha', 'Zmap_MGHNICU_014-VISIT_01-ADC_smooth2mm_clipped10.mha', 'Zmap_MGHNICU_447-VISIT_01-ADC_smooth2mm_clipped10.mha', 'Zmap_MGHNICU_072-VISIT_01-ADC_smooth2mm_clipped10.mha', 'Zmap_MGHNICU_305-VISIT_01-ADC_smooth2mm_clipped10.mha', 'Zmap_MGHNICU_457-VISIT_01-ADC_smooth2mm_clipped10.mha', 'Zmap_MGHNICU_062-VISIT_01-ADC_smooth2mm_clipped10.mha', 'Zmap_MGHNICU_231-VISIT_01-ADC_smooth2mm_clipped10.mha', 'Zmap_MGHNICU_440-VISIT_01-ADC_smooth2mm_clipped10.mha', 'Zmap_MGHNICU_355-VISIT_01-ADC_smooth2mm_clipped10.mha', 'Zmap_MGHNICU_309-VISIT_01-ADC_smooth2mm_clipped10.mha', 'Zmap_MGHNICU_101-VISIT_01-ADC_smooth2mm_clipped10.mha', 'Zmap_MGHNICU_359-VISIT_01-ADC_smooth2mm_clipped10.mha', 'Zmap_MGHNICU_323-VISIT_01-ADC_smooth2mm_clipped10.mha', 'Zmap_MGHNICU_303-VISIT_01-ADC_smooth2mm_clipped10.mha', 'Zmap_MGHNICU_329-VISIT_01-ADC_smooth2mm_clipped10.mha', 'Zmap_MGHNICU_074-VISIT_01-ADC_smooth2mm_clipped10.mha', 'Zmap_MGHNICU_069-VISIT_01-ADC_smooth2mm_clipped10.mha', 'Zmap_MGHNICU_064-VISIT_01-ADC_smooth2mm_clipped10.mha', 'Zmap_MGHNICU_379-VISIT_01-ADC_smooth2mm_clipped10.mha', 'Zmap_MGHNICU_437-VISIT_01-ADC_smooth2mm_clipped10.mha', 'Zmap_MGHNICU_338-VISIT_01-ADC_smooth2mm_clipped10.mha', 'Zmap_MGHNICU_378-VISIT_01-ADC_smooth2mm_clipped10.mha', 'Zmap_MGHNICU_028-VISIT_01-ADC_smooth2mm_clipped10.mha', 'Zmap_MGHNICU_358-VISIT_01-ADC_smooth2mm_clipped10.mha', 'Zmap_MGHNICU_348-VISIT_01-ADC_smooth2mm_clipped10.mha']\n",
            "Files in LABEL: ['MGHNICU_435-VISIT_01_lesion.mha', 'MGHNICU_071-VISIT_01_lesion.mha', 'MGHNICU_305-VISIT_01_lesion.mha', 'MGHNICU_077-VISIT_01_lesion.mha', 'MGHNICU_355-VISIT_01_lesion.mha', 'MGHNICU_153-VISIT_01_lesion.mha', 'MGHNICU_306-VISIT_01_lesion.mha', 'MGHNICU_074-VISIT_01_lesion.mha', 'MGHNICU_437-VISIT_01_lesion.mha', 'MGHNICU_272-VISIT_01_lesion.mha', 'MGHNICU_101-VISIT_01_lesion.mha', 'MGHNICU_299-VISIT_01_lesion.mha', 'MGHNICU_432-VISIT_01_lesion.mha', 'MGHNICU_433-VISIT_01_lesion.mha', 'MGHNICU_350-VISIT_01_lesion.mha', 'MGHNICU_069-VISIT_01_lesion.mha', 'MGHNICU_303-VISIT_01_lesion.mha', 'MGHNICU_286-VISIT_01_lesion.mha', 'MGHNICU_348-VISIT_01_lesion.mha', 'MGHNICU_275-VISIT_01_lesion.mha', 'MGHNICU_070-VISIT_01_lesion.mha', 'MGHNICU_309-VISIT_01_lesion.mha', 'MGHNICU_262-VISIT_01_lesion.mha', 'MGHNICU_064-VISIT_01_lesion.mha', 'MGHNICU_346-VISIT_01_lesion.mha', 'MGHNICU_105-VISIT_01_lesion.mha', 'MGHNICU_072-VISIT_01_lesion.mha', 'MGHNICU_231-VISIT_01_lesion.mha', 'MGHNICU_290-VISIT_01_lesion.mha', 'MGHNICU_109-VISIT_01_lesion.mha', 'MGHNICU_263-VISIT_01_lesion.mha', 'MGHNICU_358-VISIT_01_lesion.mha', 'MGHNICU_359-VISIT_01_lesion.mha', 'MGHNICU_310-VISIT_01_lesion.mha', 'MGHNICU_144-VISIT_01_lesion.mha', 'MGHNICU_312-VISIT_01_lesion.mha', 'MGHNICU_062-VISIT_01_lesion.mha', 'MGHNICU_441-VISIT_01_lesion.mha', 'MGHNICU_458-VISIT_01_lesion.mha', 'MGHNICU_373-VISIT_01_lesion.mha', 'MGHNICU_028-VISIT_01_lesion.mha', 'MGHNICU_323-VISIT_01_lesion.mha', 'MGHNICU_439-VISIT_01_lesion.mha', 'MGHNICU_438-VISIT_01_lesion.mha', 'MGHNICU_338-VISIT_01_lesion.mha', 'MGHNICU_264-VISIT_01_lesion.mha', 'MGHNICU_234-VISIT_01_lesion.mha', 'MGHNICU_440-VISIT_01_lesion.mha', 'MGHNICU_174-VISIT_01_lesion.mha', 'MGHNICU_445-VISIT_01_lesion.mha', 'MGHNICU_376-VISIT_01_lesion.mha', 'MGHNICU_125-VISIT_01_lesion.mha', 'MGHNICU_444-VISIT_01_lesion.mha', 'MGHNICU_446-VISIT_01_lesion.mha', 'MGHNICU_173-VISIT_01_lesion.mha', 'MGHNICU_403-VISIT_01_lesion.mha', 'MGHNICU_415-VISIT_01_lesion.mha', 'MGHNICU_442-VISIT_01_lesion.mha', 'MGHNICU_370-VISIT_01_lesion.mha', 'MGHNICU_377-VISIT_01_lesion.mha', 'MGHNICU_447-VISIT_01_lesion.mha', 'MGHNICU_379-VISIT_01_lesion.mha', 'MGHNICU_393-VISIT_01_lesion.mha', 'MGHNICU_453-VISIT_01_lesion.mha', 'MGHNICU_197-VISIT_01_lesion.mha', 'MGHNICU_331-VISIT_01_lesion.mha', 'MGHNICU_378-VISIT_01_lesion.mha', 'MGHNICU_452-VISIT_01_lesion.mha', 'MGHNICU_329-VISIT_01_lesion.mha', 'MGHNICU_449-VISIT_01_lesion.mha', 'MGHNICU_456-VISIT_01_lesion.mha', 'MGHNICU_455-VISIT_01_lesion.mha', 'MGHNICU_014-VISIT_01_lesion.mha', 'MGHNICU_336-VISIT_01_lesion.mha', 'MGHNICU_362-VISIT_01_lesion.mha', 'MGHNICU_214-VISIT_01_lesion.mha', 'MGHNICU_457-VISIT_01_lesion.mha', 'MGHNICU_010-VISIT_01_lesion.mha', 'MGHNICU_448-VISIT_01_lesion.mha', 'MGHNICU_215-VISIT_01_lesion.mha', 'MGHNICU_178-VISIT_01_lesion.mha', 'MGHNICU_454-VISIT_01_lesion.mha', 'MGHNICU_015-VISIT_01_lesion.mha', 'MGHNICU_405-VISIT_01_lesion.mha', 'MGHNICU_209-VISIT_01_lesion.mha']\n"
          ]
        }
      ]
    },
    {
      "cell_type": "code",
      "source": [
        "#Correction of missing or misplaced files"
      ],
      "metadata": {
        "id": "Q7AefaEDjNeT"
      },
      "execution_count": null,
      "outputs": []
    },
    {
      "cell_type": "code",
      "source": [
        "# List files in each directory\n",
        "adc_files = set(os.listdir(adc_dir))\n",
        "z_adc_files = set(os.listdir(z_adc_dir))\n",
        "label_files = set(os.listdir(label_dir))\n",
        "\n",
        "print(\"Files in ADC_ss:\", adc_files)\n",
        "print(\"Files in Z_ADC:\", z_adc_files)\n",
        "print(\"Files in LABEL:\", label_files)"
      ],
      "metadata": {
        "colab": {
          "base_uri": "https://localhost:8080/"
        },
        "id": "mIuyRk1DjRLZ",
        "outputId": "fc63be97-2907-4892-b44c-9becc0a66abe"
      },
      "execution_count": null,
      "outputs": [
        {
          "output_type": "stream",
          "name": "stdout",
          "text": [
            "Files in ADC_ss: {'MGHNICU_405-VISIT_01-ADC_ss.mha', 'MGHNICU_442-VISIT_01-ADC_ss.mha', 'MGHNICU_234-VISIT_01-ADC_ss.mha', 'MGHNICU_362-VISIT_01-ADC_ss.mha', 'MGHNICU_015-VISIT_01-ADC_ss.mha', 'MGHNICU_077-VISIT_01-ADC_ss.mha', 'MGHNICU_173-VISIT_01-ADC_ss.mha', 'MGHNICU_444-VISIT_01-ADC_ss.mha', 'MGHNICU_448-VISIT_01-ADC_ss.mha', 'MGHNICU_071-VISIT_01-ADC_ss.mha', 'MGHNICU_178-VISIT_01-ADC_ss.mha', 'MGHNICU_109-VISIT_01-ADC_ss.mha', 'MGHNICU_197-VISIT_01-ADC_ss.mha', 'MGHNICU_441-VISIT_01-ADC_ss.mha', 'MGHNICU_062-VISIT_01-ADC_ss.mha', 'MGHNICU_338-VISIT_01-ADC_ss.mha', 'MGHNICU_310-VISIT_01-ADC_ss.mha', 'MGHNICU_144-VISIT_01-ADC_ss.mha', 'MGHNICU_105-VISIT_01-ADC_ss.mha', 'MGHNICU_379-VISIT_01-ADC_ss.mha', 'MGHNICU_286-VISIT_01-ADC_ss.mha', 'MGHNICU_336-VISIT_01-ADC_ss.mha', 'MGHNICU_290-VISIT_01-ADC_ss.mha', 'MGHNICU_329-VISIT_01-ADC_ss.mha', 'MGHNICU_014-VISIT_01-ADC_ss.mha', 'MGHNICU_306-VISIT_01-ADC_ss.mha', 'MGHNICU_125-VISIT_01-ADC_ss.mha', 'MGHNICU_263-VISIT_01-ADC_ss.mha', 'MGHNICU_445-VISIT_01-ADC_ss.mha', 'MGHNICU_303-VISIT_01-ADC_ss.mha', 'MGHNICU_010-VISIT_01-ADC_ss.mha', 'MGHNICU_370-VISIT_01-ADC_ss.mha', 'MGHNICU_437-VISIT_01-ADC_ss.mha', 'MGHNICU_415-VISIT_01-ADC_ss.mha', 'MGHNICU_214-VISIT_01-ADC_ss.mha', 'MGHNICU_432-VISIT_01-ADC_ss.mha', 'MGHNICU_440-VISIT_01-ADC_ss.mha', 'MGHNICU_064-VISIT_01-ADC_ss.mha', 'MGHNICU_458-VISIT_01-ADC_ss.mha', 'MGHNICU_453-VISIT_01-ADC_ss.mha', 'MGHNICU_454-VISIT_01-ADC_ss.mha', 'MGHNICU_393-VISIT_01-ADC_ss.mha', 'MGHNICU_355-VISIT_01-ADC_ss.mha', 'MGHNICU_457-VISIT_01-ADC_ss.mha', 'MGHNICU_358-VISIT_01-ADC_ss.mha', 'MGHNICU_101-VISIT_01-ADC_ss.mha', 'MGHNICU_074-VISIT_01-ADC_ss.mha', 'MGHNICU_433-VISIT_01-ADC_ss.mha', 'MGHNICU_447-VISIT_01-ADC_ss.mha', 'MGHNICU_435-VISIT_01-ADC_ss.mha', 'MGHNICU_439-VISIT_01-ADC_ss.mha', 'MGHNICU_323-VISIT_01-ADC_ss.mha', 'MGHNICU_348-VISIT_01-ADC_ss.mha', 'MGHNICU_264-VISIT_01-ADC_ss.mha', 'MGHNICU_403-VISIT_01-ADC_ss.mha', 'MGHNICU_174-VISIT_01-ADC_ss.mha', 'MGHNICU_350-VISIT_01-ADC_ss.mha', 'MGHNICU_331-VISIT_01-ADC_ss.mha', 'MGHNICU_309-VISIT_01-ADC_ss.mha', 'MGHNICU_456-VISIT_01-ADC_ss.mha', 'MGHNICU_215-VISIT_01-ADC_ss.mha', 'MGHNICU_376-VISIT_01-ADC_ss.mha', 'MGHNICU_455-VISIT_01-ADC_ss.mha', 'MGHNICU_069-VISIT_01-ADC_ss.mha', 'MGHNICU_377-VISIT_01-ADC_ss.mha', 'MGHNICU_312-VISIT_01-ADC_ss.mha', 'MGHNICU_262-VISIT_01-ADC_ss.mha', 'MGHNICU_209-VISIT_01-ADC_ss.mha', 'MGHNICU_438-VISIT_01-ADC_ss.mha', 'MGHNICU_153-VISIT_01-ADC_ss.mha', 'MGHNICU_452-VISIT_01-ADC_ss.mha', 'MGHNICU_359-VISIT_01-ADC_ss.mha', 'MGHNICU_275-VISIT_01-ADC_ss.mha', 'MGHNICU_231-VISIT_01-ADC_ss.mha', 'MGHNICU_072-VISIT_01-ADC_ss.mha', 'MGHNICU_299-VISIT_01-ADC_ss.mha', 'MGHNICU_305-VISIT_01-ADC_ss.mha', 'MGHNICU_449-VISIT_01-ADC_ss.mha', 'MGHNICU_373-VISIT_01-ADC_ss.mha', 'MGHNICU_346-VISIT_01-ADC_ss.mha', 'MGHNICU_028-VISIT_01-ADC_ss.mha', 'MGHNICU_070-VISIT_01-ADC_ss.mha', 'MGHNICU_446-VISIT_01-ADC_ss.mha', 'MGHNICU_272-VISIT_01-ADC_ss.mha', 'MGHNICU_378-VISIT_01-ADC_ss.mha'}\n",
            "Files in Z_ADC: {'Zmap_MGHNICU_101-VISIT_01-ADC_smooth2mm_clipped10.mha', 'Zmap_MGHNICU_442-VISIT_01-ADC_smooth2mm_clipped10.mha', 'Zmap_MGHNICU_286-VISIT_01-ADC_smooth2mm_clipped10.mha', 'Zmap_MGHNICU_432-VISIT_01-ADC_smooth2mm_clipped10.mha', 'Zmap_MGHNICU_393-VISIT_01-ADC_smooth2mm_clipped10.mha', 'Zmap_MGHNICU_362-VISIT_01-ADC_smooth2mm_clipped10.mha', 'Zmap_MGHNICU_197-VISIT_01-ADC_smooth2mm_clipped10.mha', 'Zmap_MGHNICU_299-VISIT_01-ADC_smooth2mm_clipped10.mha', 'Zmap_MGHNICU_379-VISIT_01-ADC_smooth2mm_clipped10.mha', 'Zmap_MGHNICU_448-VISIT_01-ADC_smooth2mm_clipped10.mha', 'Zmap_MGHNICU_435-VISIT_01-ADC_smooth2mm_clipped10.mha', 'Zmap_MGHNICU_028-VISIT_01-ADC_smooth2mm_clipped10.mha', 'Zmap_MGHNICU_144-VISIT_01-ADC_smooth2mm_clipped10.mha', 'Zmap_MGHNICU_069-VISIT_01-ADC_smooth2mm_clipped10.mha', 'Zmap_MGHNICU_331-VISIT_01-ADC_smooth2mm_clipped10.mha', 'Zmap_MGHNICU_264-VISIT_01-ADC_smooth2mm_clipped10.mha', 'Zmap_MGHNICU_312-VISIT_01-ADC_smooth2mm_clipped10.mha', 'Zmap_MGHNICU_454-VISIT_01-ADC_smooth2mm_clipped10.mha', 'Zmap_MGHNICU_231-VISIT_01-ADC_smooth2mm_clipped10.mha', 'Zmap_MGHNICU_275-VISIT_01-ADC_smooth2mm_clipped10.mha', 'Zmap_MGHNICU_458-VISIT_01-ADC_smooth2mm_clipped10.mha', 'Zmap_MGHNICU_010-VISIT_01-ADC_smooth2mm_clipped10.mha', 'Zmap_MGHNICU_306-VISIT_01-ADC_smooth2mm_clipped10.mha', 'Zmap_MGHNICU_438-VISIT_01-ADC_smooth2mm_clipped10.mha', 'Zmap_MGHNICU_348-VISIT_01-ADC_smooth2mm_clipped10.mha', 'Zmap_MGHNICU_071-VISIT_01-ADC_smooth2mm_clipped10.mha', 'Zmap_MGHNICU_446-VISIT_01-ADC_smooth2mm_clipped10.mha', 'Zmap_MGHNICU_309-VISIT_01-ADC_smooth2mm_clipped10.mha', 'Zmap_MGHNICU_444-VISIT_01-ADC_smooth2mm_clipped10.mha', 'Zmap_MGHNICU_453-VISIT_01-ADC_smooth2mm_clipped10.mha', 'Zmap_MGHNICU_272-VISIT_01-ADC_smooth2mm_clipped10.mha', 'Zmap_MGHNICU_355-VISIT_01-ADC_smooth2mm_clipped10.mha', 'Zmap_MGHNICU_370-VISIT_01-ADC_smooth2mm_clipped10.mha', 'Zmap_MGHNICU_303-VISIT_01-ADC_smooth2mm_clipped10.mha', 'Zmap_MGHNICU_346-VISIT_01-ADC_smooth2mm_clipped10.mha', 'Zmap_MGHNICU_378-VISIT_01-ADC_smooth2mm_clipped10.mha', 'Zmap_MGHNICU_153-VISIT_01-ADC_smooth2mm_clipped10.mha', 'Zmap_MGHNICU_064-VISIT_01-ADC_smooth2mm_clipped10.mha', 'Zmap_MGHNICU_174-VISIT_01-ADC_smooth2mm_clipped10.mha', 'Zmap_MGHNICU_014-VISIT_01-ADC_smooth2mm_clipped10.mha', 'Zmap_MGHNICU_262-VISIT_01-ADC_smooth2mm_clipped10.mha', 'Zmap_MGHNICU_125-VISIT_01-ADC_smooth2mm_clipped10.mha', 'Zmap_MGHNICU_373-VISIT_01-ADC_smooth2mm_clipped10.mha', 'Zmap_MGHNICU_433-VISIT_01-ADC_smooth2mm_clipped10.mha', 'Zmap_MGHNICU_405-VISIT_01-ADC_smooth2mm_clipped10.mha', 'Zmap_MGHNICU_310-VISIT_01-ADC_smooth2mm_clipped10.mha', 'Zmap_MGHNICU_358-VISIT_01-ADC_smooth2mm_clipped10.mha', 'Zmap_MGHNICU_305-VISIT_01-ADC_smooth2mm_clipped10.mha', 'Zmap_MGHNICU_214-VISIT_01-ADC_smooth2mm_clipped10.mha', 'Zmap_MGHNICU_074-VISIT_01-ADC_smooth2mm_clipped10.mha', 'Zmap_MGHNICU_338-VISIT_01-ADC_smooth2mm_clipped10.mha', 'Zmap_MGHNICU_456-VISIT_01-ADC_smooth2mm_clipped10.mha', 'Zmap_MGHNICU_263-VISIT_01-ADC_smooth2mm_clipped10.mha', 'Zmap_MGHNICU_105-VISIT_01-ADC_smooth2mm_clipped10.mha', 'Zmap_MGHNICU_457-VISIT_01-ADC_smooth2mm_clipped10.mha', 'Zmap_MGHNICU_440-VISIT_01-ADC_smooth2mm_clipped10.mha', 'Zmap_MGHNICU_178-VISIT_01-ADC_smooth2mm_clipped10.mha', 'Zmap_MGHNICU_441-VISIT_01-ADC_smooth2mm_clipped10.mha', 'Zmap_MGHNICU_329-VISIT_01-ADC_smooth2mm_clipped10.mha', 'Zmap_MGHNICU_445-VISIT_01-ADC_smooth2mm_clipped10.mha', 'Zmap_MGHNICU_062-VISIT_01-ADC_smooth2mm_clipped10.mha', 'Zmap_MGHNICU_452-VISIT_01-ADC_smooth2mm_clipped10.mha', 'Zmap_MGHNICU_070-VISIT_01-ADC_smooth2mm_clipped10.mha', 'Zmap_MGHNICU_215-VISIT_01-ADC_smooth2mm_clipped10.mha', 'Zmap_MGHNICU_290-VISIT_01-ADC_smooth2mm_clipped10.mha', 'Zmap_MGHNICU_077-VISIT_01-ADC_smooth2mm_clipped10.mha', 'Zmap_MGHNICU_439-VISIT_01-ADC_smooth2mm_clipped10.mha', 'Zmap_MGHNICU_234-VISIT_01-ADC_smooth2mm_clipped10.mha', 'Zmap_MGHNICU_377-VISIT_01-ADC_smooth2mm_clipped10.mha', 'Zmap_MGHNICU_350-VISIT_01-ADC_smooth2mm_clipped10.mha', 'Zmap_MGHNICU_376-VISIT_01-ADC_smooth2mm_clipped10.mha', 'Zmap_MGHNICU_447-VISIT_01-ADC_smooth2mm_clipped10.mha', 'Zmap_MGHNICU_072-VISIT_01-ADC_smooth2mm_clipped10.mha', 'Zmap_MGHNICU_403-VISIT_01-ADC_smooth2mm_clipped10.mha', 'Zmap_MGHNICU_109-VISIT_01-ADC_smooth2mm_clipped10.mha', 'Zmap_MGHNICU_336-VISIT_01-ADC_smooth2mm_clipped10.mha', 'Zmap_MGHNICU_323-VISIT_01-ADC_smooth2mm_clipped10.mha', 'Zmap_MGHNICU_449-VISIT_01-ADC_smooth2mm_clipped10.mha', 'Zmap_MGHNICU_173-VISIT_01-ADC_smooth2mm_clipped10.mha', 'Zmap_MGHNICU_455-VISIT_01-ADC_smooth2mm_clipped10.mha', 'Zmap_MGHNICU_359-VISIT_01-ADC_smooth2mm_clipped10.mha', 'Zmap_MGHNICU_415-VISIT_01-ADC_smooth2mm_clipped10.mha', 'Zmap_MGHNICU_015-VISIT_01-ADC_smooth2mm_clipped10.mha', 'Zmap_MGHNICU_437-VISIT_01-ADC_smooth2mm_clipped10.mha', 'Zmap_MGHNICU_209-VISIT_01-ADC_smooth2mm_clipped10.mha'}\n",
            "Files in LABEL: {'MGHNICU_064-VISIT_01_lesion.mha', 'MGHNICU_234-VISIT_01_lesion.mha', 'MGHNICU_263-VISIT_01_lesion.mha', 'MGHNICU_350-VISIT_01_lesion.mha', 'MGHNICU_358-VISIT_01_lesion.mha', 'MGHNICU_336-VISIT_01_lesion.mha', 'MGHNICU_303-VISIT_01_lesion.mha', 'MGHNICU_348-VISIT_01_lesion.mha', 'MGHNICU_072-VISIT_01_lesion.mha', 'MGHNICU_105-VISIT_01_lesion.mha', 'MGHNICU_377-VISIT_01_lesion.mha', 'MGHNICU_109-VISIT_01_lesion.mha', 'MGHNICU_062-VISIT_01_lesion.mha', 'MGHNICU_446-VISIT_01_lesion.mha', 'MGHNICU_290-VISIT_01_lesion.mha', 'MGHNICU_286-VISIT_01_lesion.mha', 'MGHNICU_362-VISIT_01_lesion.mha', 'MGHNICU_448-VISIT_01_lesion.mha', 'MGHNICU_015-VISIT_01_lesion.mha', 'MGHNICU_215-VISIT_01_lesion.mha', 'MGHNICU_231-VISIT_01_lesion.mha', 'MGHNICU_264-VISIT_01_lesion.mha', 'MGHNICU_305-VISIT_01_lesion.mha', 'MGHNICU_272-VISIT_01_lesion.mha', 'MGHNICU_010-VISIT_01_lesion.mha', 'MGHNICU_346-VISIT_01_lesion.mha', 'MGHNICU_432-VISIT_01_lesion.mha', 'MGHNICU_125-VISIT_01_lesion.mha', 'MGHNICU_359-VISIT_01_lesion.mha', 'MGHNICU_405-VISIT_01_lesion.mha', 'MGHNICU_209-VISIT_01_lesion.mha', 'MGHNICU_310-VISIT_01_lesion.mha', 'MGHNICU_453-VISIT_01_lesion.mha', 'MGHNICU_214-VISIT_01_lesion.mha', 'MGHNICU_370-VISIT_01_lesion.mha', 'MGHNICU_457-VISIT_01_lesion.mha', 'MGHNICU_338-VISIT_01_lesion.mha', 'MGHNICU_442-VISIT_01_lesion.mha', 'MGHNICU_331-VISIT_01_lesion.mha', 'MGHNICU_014-VISIT_01_lesion.mha', 'MGHNICU_323-VISIT_01_lesion.mha', 'MGHNICU_355-VISIT_01_lesion.mha', 'MGHNICU_445-VISIT_01_lesion.mha', 'MGHNICU_393-VISIT_01_lesion.mha', 'MGHNICU_452-VISIT_01_lesion.mha', 'MGHNICU_444-VISIT_01_lesion.mha', 'MGHNICU_441-VISIT_01_lesion.mha', 'MGHNICU_299-VISIT_01_lesion.mha', 'MGHNICU_197-VISIT_01_lesion.mha', 'MGHNICU_437-VISIT_01_lesion.mha', 'MGHNICU_435-VISIT_01_lesion.mha', 'MGHNICU_329-VISIT_01_lesion.mha', 'MGHNICU_378-VISIT_01_lesion.mha', 'MGHNICU_275-VISIT_01_lesion.mha', 'MGHNICU_439-VISIT_01_lesion.mha', 'MGHNICU_306-VISIT_01_lesion.mha', 'MGHNICU_074-VISIT_01_lesion.mha', 'MGHNICU_178-VISIT_01_lesion.mha', 'MGHNICU_458-VISIT_01_lesion.mha', 'MGHNICU_144-VISIT_01_lesion.mha', 'MGHNICU_403-VISIT_01_lesion.mha', 'MGHNICU_312-VISIT_01_lesion.mha', 'MGHNICU_449-VISIT_01_lesion.mha', 'MGHNICU_309-VISIT_01_lesion.mha', 'MGHNICU_456-VISIT_01_lesion.mha', 'MGHNICU_415-VISIT_01_lesion.mha', 'MGHNICU_071-VISIT_01_lesion.mha', 'MGHNICU_028-VISIT_01_lesion.mha', 'MGHNICU_070-VISIT_01_lesion.mha', 'MGHNICU_379-VISIT_01_lesion.mha', 'MGHNICU_173-VISIT_01_lesion.mha', 'MGHNICU_440-VISIT_01_lesion.mha', 'MGHNICU_069-VISIT_01_lesion.mha', 'MGHNICU_433-VISIT_01_lesion.mha', 'MGHNICU_077-VISIT_01_lesion.mha', 'MGHNICU_153-VISIT_01_lesion.mha', 'MGHNICU_454-VISIT_01_lesion.mha', 'MGHNICU_438-VISIT_01_lesion.mha', 'MGHNICU_373-VISIT_01_lesion.mha', 'MGHNICU_101-VISIT_01_lesion.mha', 'MGHNICU_455-VISIT_01_lesion.mha', 'MGHNICU_447-VISIT_01_lesion.mha', 'MGHNICU_262-VISIT_01_lesion.mha', 'MGHNICU_174-VISIT_01_lesion.mha', 'MGHNICU_376-VISIT_01_lesion.mha'}\n"
          ]
        }
      ]
    },
    {
      "cell_type": "code",
      "source": [
        "# Find mismatches between sets\n",
        "missing_in_z_adc = adc_files - z_adc_files\n",
        "missing_in_label = adc_files - label_files\n",
        "\n",
        "print(\"Files in ADC but missing in Z_ADC:\", missing_in_z_adc)\n",
        "print(\"Files in ADC but missing in LABEL:\", missing_in_label)"
      ],
      "metadata": {
        "colab": {
          "base_uri": "https://localhost:8080/"
        },
        "id": "YXEs9edajXKi",
        "outputId": "5e2a716d-9118-4ed3-b713-e9397c1cb577"
      },
      "execution_count": null,
      "outputs": [
        {
          "output_type": "stream",
          "name": "stdout",
          "text": [
            "Files in ADC but missing in Z_ADC: {'MGHNICU_405-VISIT_01-ADC_ss.mha', 'MGHNICU_442-VISIT_01-ADC_ss.mha', 'MGHNICU_234-VISIT_01-ADC_ss.mha', 'MGHNICU_362-VISIT_01-ADC_ss.mha', 'MGHNICU_015-VISIT_01-ADC_ss.mha', 'MGHNICU_077-VISIT_01-ADC_ss.mha', 'MGHNICU_173-VISIT_01-ADC_ss.mha', 'MGHNICU_444-VISIT_01-ADC_ss.mha', 'MGHNICU_448-VISIT_01-ADC_ss.mha', 'MGHNICU_071-VISIT_01-ADC_ss.mha', 'MGHNICU_178-VISIT_01-ADC_ss.mha', 'MGHNICU_109-VISIT_01-ADC_ss.mha', 'MGHNICU_197-VISIT_01-ADC_ss.mha', 'MGHNICU_441-VISIT_01-ADC_ss.mha', 'MGHNICU_062-VISIT_01-ADC_ss.mha', 'MGHNICU_338-VISIT_01-ADC_ss.mha', 'MGHNICU_310-VISIT_01-ADC_ss.mha', 'MGHNICU_144-VISIT_01-ADC_ss.mha', 'MGHNICU_105-VISIT_01-ADC_ss.mha', 'MGHNICU_379-VISIT_01-ADC_ss.mha', 'MGHNICU_286-VISIT_01-ADC_ss.mha', 'MGHNICU_336-VISIT_01-ADC_ss.mha', 'MGHNICU_290-VISIT_01-ADC_ss.mha', 'MGHNICU_329-VISIT_01-ADC_ss.mha', 'MGHNICU_014-VISIT_01-ADC_ss.mha', 'MGHNICU_306-VISIT_01-ADC_ss.mha', 'MGHNICU_125-VISIT_01-ADC_ss.mha', 'MGHNICU_263-VISIT_01-ADC_ss.mha', 'MGHNICU_445-VISIT_01-ADC_ss.mha', 'MGHNICU_303-VISIT_01-ADC_ss.mha', 'MGHNICU_010-VISIT_01-ADC_ss.mha', 'MGHNICU_370-VISIT_01-ADC_ss.mha', 'MGHNICU_437-VISIT_01-ADC_ss.mha', 'MGHNICU_415-VISIT_01-ADC_ss.mha', 'MGHNICU_214-VISIT_01-ADC_ss.mha', 'MGHNICU_432-VISIT_01-ADC_ss.mha', 'MGHNICU_440-VISIT_01-ADC_ss.mha', 'MGHNICU_064-VISIT_01-ADC_ss.mha', 'MGHNICU_458-VISIT_01-ADC_ss.mha', 'MGHNICU_453-VISIT_01-ADC_ss.mha', 'MGHNICU_454-VISIT_01-ADC_ss.mha', 'MGHNICU_393-VISIT_01-ADC_ss.mha', 'MGHNICU_355-VISIT_01-ADC_ss.mha', 'MGHNICU_457-VISIT_01-ADC_ss.mha', 'MGHNICU_358-VISIT_01-ADC_ss.mha', 'MGHNICU_101-VISIT_01-ADC_ss.mha', 'MGHNICU_074-VISIT_01-ADC_ss.mha', 'MGHNICU_433-VISIT_01-ADC_ss.mha', 'MGHNICU_447-VISIT_01-ADC_ss.mha', 'MGHNICU_435-VISIT_01-ADC_ss.mha', 'MGHNICU_439-VISIT_01-ADC_ss.mha', 'MGHNICU_323-VISIT_01-ADC_ss.mha', 'MGHNICU_348-VISIT_01-ADC_ss.mha', 'MGHNICU_264-VISIT_01-ADC_ss.mha', 'MGHNICU_403-VISIT_01-ADC_ss.mha', 'MGHNICU_174-VISIT_01-ADC_ss.mha', 'MGHNICU_350-VISIT_01-ADC_ss.mha', 'MGHNICU_331-VISIT_01-ADC_ss.mha', 'MGHNICU_309-VISIT_01-ADC_ss.mha', 'MGHNICU_456-VISIT_01-ADC_ss.mha', 'MGHNICU_215-VISIT_01-ADC_ss.mha', 'MGHNICU_376-VISIT_01-ADC_ss.mha', 'MGHNICU_455-VISIT_01-ADC_ss.mha', 'MGHNICU_069-VISIT_01-ADC_ss.mha', 'MGHNICU_377-VISIT_01-ADC_ss.mha', 'MGHNICU_312-VISIT_01-ADC_ss.mha', 'MGHNICU_262-VISIT_01-ADC_ss.mha', 'MGHNICU_209-VISIT_01-ADC_ss.mha', 'MGHNICU_438-VISIT_01-ADC_ss.mha', 'MGHNICU_153-VISIT_01-ADC_ss.mha', 'MGHNICU_452-VISIT_01-ADC_ss.mha', 'MGHNICU_359-VISIT_01-ADC_ss.mha', 'MGHNICU_275-VISIT_01-ADC_ss.mha', 'MGHNICU_231-VISIT_01-ADC_ss.mha', 'MGHNICU_072-VISIT_01-ADC_ss.mha', 'MGHNICU_299-VISIT_01-ADC_ss.mha', 'MGHNICU_305-VISIT_01-ADC_ss.mha', 'MGHNICU_449-VISIT_01-ADC_ss.mha', 'MGHNICU_373-VISIT_01-ADC_ss.mha', 'MGHNICU_346-VISIT_01-ADC_ss.mha', 'MGHNICU_028-VISIT_01-ADC_ss.mha', 'MGHNICU_070-VISIT_01-ADC_ss.mha', 'MGHNICU_446-VISIT_01-ADC_ss.mha', 'MGHNICU_272-VISIT_01-ADC_ss.mha', 'MGHNICU_378-VISIT_01-ADC_ss.mha'}\n",
            "Files in ADC but missing in LABEL: {'MGHNICU_405-VISIT_01-ADC_ss.mha', 'MGHNICU_442-VISIT_01-ADC_ss.mha', 'MGHNICU_234-VISIT_01-ADC_ss.mha', 'MGHNICU_362-VISIT_01-ADC_ss.mha', 'MGHNICU_015-VISIT_01-ADC_ss.mha', 'MGHNICU_077-VISIT_01-ADC_ss.mha', 'MGHNICU_173-VISIT_01-ADC_ss.mha', 'MGHNICU_444-VISIT_01-ADC_ss.mha', 'MGHNICU_448-VISIT_01-ADC_ss.mha', 'MGHNICU_071-VISIT_01-ADC_ss.mha', 'MGHNICU_178-VISIT_01-ADC_ss.mha', 'MGHNICU_109-VISIT_01-ADC_ss.mha', 'MGHNICU_197-VISIT_01-ADC_ss.mha', 'MGHNICU_441-VISIT_01-ADC_ss.mha', 'MGHNICU_062-VISIT_01-ADC_ss.mha', 'MGHNICU_338-VISIT_01-ADC_ss.mha', 'MGHNICU_310-VISIT_01-ADC_ss.mha', 'MGHNICU_144-VISIT_01-ADC_ss.mha', 'MGHNICU_105-VISIT_01-ADC_ss.mha', 'MGHNICU_379-VISIT_01-ADC_ss.mha', 'MGHNICU_286-VISIT_01-ADC_ss.mha', 'MGHNICU_336-VISIT_01-ADC_ss.mha', 'MGHNICU_290-VISIT_01-ADC_ss.mha', 'MGHNICU_329-VISIT_01-ADC_ss.mha', 'MGHNICU_014-VISIT_01-ADC_ss.mha', 'MGHNICU_306-VISIT_01-ADC_ss.mha', 'MGHNICU_125-VISIT_01-ADC_ss.mha', 'MGHNICU_263-VISIT_01-ADC_ss.mha', 'MGHNICU_445-VISIT_01-ADC_ss.mha', 'MGHNICU_303-VISIT_01-ADC_ss.mha', 'MGHNICU_010-VISIT_01-ADC_ss.mha', 'MGHNICU_370-VISIT_01-ADC_ss.mha', 'MGHNICU_437-VISIT_01-ADC_ss.mha', 'MGHNICU_415-VISIT_01-ADC_ss.mha', 'MGHNICU_214-VISIT_01-ADC_ss.mha', 'MGHNICU_432-VISIT_01-ADC_ss.mha', 'MGHNICU_440-VISIT_01-ADC_ss.mha', 'MGHNICU_064-VISIT_01-ADC_ss.mha', 'MGHNICU_458-VISIT_01-ADC_ss.mha', 'MGHNICU_453-VISIT_01-ADC_ss.mha', 'MGHNICU_454-VISIT_01-ADC_ss.mha', 'MGHNICU_393-VISIT_01-ADC_ss.mha', 'MGHNICU_355-VISIT_01-ADC_ss.mha', 'MGHNICU_457-VISIT_01-ADC_ss.mha', 'MGHNICU_358-VISIT_01-ADC_ss.mha', 'MGHNICU_101-VISIT_01-ADC_ss.mha', 'MGHNICU_074-VISIT_01-ADC_ss.mha', 'MGHNICU_433-VISIT_01-ADC_ss.mha', 'MGHNICU_447-VISIT_01-ADC_ss.mha', 'MGHNICU_435-VISIT_01-ADC_ss.mha', 'MGHNICU_439-VISIT_01-ADC_ss.mha', 'MGHNICU_323-VISIT_01-ADC_ss.mha', 'MGHNICU_348-VISIT_01-ADC_ss.mha', 'MGHNICU_264-VISIT_01-ADC_ss.mha', 'MGHNICU_403-VISIT_01-ADC_ss.mha', 'MGHNICU_174-VISIT_01-ADC_ss.mha', 'MGHNICU_350-VISIT_01-ADC_ss.mha', 'MGHNICU_331-VISIT_01-ADC_ss.mha', 'MGHNICU_309-VISIT_01-ADC_ss.mha', 'MGHNICU_456-VISIT_01-ADC_ss.mha', 'MGHNICU_215-VISIT_01-ADC_ss.mha', 'MGHNICU_376-VISIT_01-ADC_ss.mha', 'MGHNICU_455-VISIT_01-ADC_ss.mha', 'MGHNICU_069-VISIT_01-ADC_ss.mha', 'MGHNICU_377-VISIT_01-ADC_ss.mha', 'MGHNICU_312-VISIT_01-ADC_ss.mha', 'MGHNICU_262-VISIT_01-ADC_ss.mha', 'MGHNICU_209-VISIT_01-ADC_ss.mha', 'MGHNICU_438-VISIT_01-ADC_ss.mha', 'MGHNICU_153-VISIT_01-ADC_ss.mha', 'MGHNICU_452-VISIT_01-ADC_ss.mha', 'MGHNICU_359-VISIT_01-ADC_ss.mha', 'MGHNICU_275-VISIT_01-ADC_ss.mha', 'MGHNICU_231-VISIT_01-ADC_ss.mha', 'MGHNICU_072-VISIT_01-ADC_ss.mha', 'MGHNICU_299-VISIT_01-ADC_ss.mha', 'MGHNICU_305-VISIT_01-ADC_ss.mha', 'MGHNICU_449-VISIT_01-ADC_ss.mha', 'MGHNICU_373-VISIT_01-ADC_ss.mha', 'MGHNICU_346-VISIT_01-ADC_ss.mha', 'MGHNICU_028-VISIT_01-ADC_ss.mha', 'MGHNICU_070-VISIT_01-ADC_ss.mha', 'MGHNICU_446-VISIT_01-ADC_ss.mha', 'MGHNICU_272-VISIT_01-ADC_ss.mha', 'MGHNICU_378-VISIT_01-ADC_ss.mha'}\n"
          ]
        }
      ]
    },
    {
      "cell_type": "markdown",
      "source": [
        "####Prefix Differences in Z_ADC:\n",
        "\n",
        "The files in Z_ADC have the prefix \"Zmap_\" and a suffix \"_smooth2mm_clipped10.mha\".\n",
        "To match these with files in ADC_ss, you’ll need to adjust for the prefix and suffix in your code.\n",
        "Suffix Differences in LABEL:\n",
        "\n",
        "The files in LABEL end with \"_lesion.mha\".\n",
        "Similarly, the code needs to remove the suffix to match these files with those in ADC_ss."
      ],
      "metadata": {
        "id": "DT-nyhhTkBqr"
      }
    },
    {
      "cell_type": "code",
      "source": [
        "#Filematching corrections"
      ],
      "metadata": {
        "id": "XlpsUBPokbuR"
      },
      "execution_count": null,
      "outputs": []
    },
    {
      "cell_type": "code",
      "source": [
        "print(\"Base names in ADC_ss:\", adc_files)\n",
        "print(\"Base names in Z_ADC:\", z_adc_files)\n",
        "print(\"Base names in LABEL:\", label_files)\n"
      ],
      "metadata": {
        "colab": {
          "base_uri": "https://localhost:8080/"
        },
        "id": "3-W5oR3UlCLk",
        "outputId": "92a19e00-0e63-4a55-9f7f-4707f349afe6"
      },
      "execution_count": null,
      "outputs": [
        {
          "output_type": "stream",
          "name": "stdout",
          "text": [
            "Base names in ADC_ss: {'MGHNICU_405-VISIT_01-ADC_ss.mha', 'MGHNICU_442-VISIT_01-ADC_ss.mha', 'MGHNICU_234-VISIT_01-ADC_ss.mha', 'MGHNICU_362-VISIT_01-ADC_ss.mha', 'MGHNICU_015-VISIT_01-ADC_ss.mha', 'MGHNICU_077-VISIT_01-ADC_ss.mha', 'MGHNICU_173-VISIT_01-ADC_ss.mha', 'MGHNICU_444-VISIT_01-ADC_ss.mha', 'MGHNICU_448-VISIT_01-ADC_ss.mha', 'MGHNICU_071-VISIT_01-ADC_ss.mha', 'MGHNICU_178-VISIT_01-ADC_ss.mha', 'MGHNICU_109-VISIT_01-ADC_ss.mha', 'MGHNICU_197-VISIT_01-ADC_ss.mha', 'MGHNICU_441-VISIT_01-ADC_ss.mha', 'MGHNICU_062-VISIT_01-ADC_ss.mha', 'MGHNICU_338-VISIT_01-ADC_ss.mha', 'MGHNICU_310-VISIT_01-ADC_ss.mha', 'MGHNICU_144-VISIT_01-ADC_ss.mha', 'MGHNICU_105-VISIT_01-ADC_ss.mha', 'MGHNICU_379-VISIT_01-ADC_ss.mha', 'MGHNICU_286-VISIT_01-ADC_ss.mha', 'MGHNICU_336-VISIT_01-ADC_ss.mha', 'MGHNICU_290-VISIT_01-ADC_ss.mha', 'MGHNICU_329-VISIT_01-ADC_ss.mha', 'MGHNICU_014-VISIT_01-ADC_ss.mha', 'MGHNICU_306-VISIT_01-ADC_ss.mha', 'MGHNICU_125-VISIT_01-ADC_ss.mha', 'MGHNICU_263-VISIT_01-ADC_ss.mha', 'MGHNICU_445-VISIT_01-ADC_ss.mha', 'MGHNICU_303-VISIT_01-ADC_ss.mha', 'MGHNICU_010-VISIT_01-ADC_ss.mha', 'MGHNICU_370-VISIT_01-ADC_ss.mha', 'MGHNICU_437-VISIT_01-ADC_ss.mha', 'MGHNICU_415-VISIT_01-ADC_ss.mha', 'MGHNICU_214-VISIT_01-ADC_ss.mha', 'MGHNICU_432-VISIT_01-ADC_ss.mha', 'MGHNICU_440-VISIT_01-ADC_ss.mha', 'MGHNICU_064-VISIT_01-ADC_ss.mha', 'MGHNICU_458-VISIT_01-ADC_ss.mha', 'MGHNICU_453-VISIT_01-ADC_ss.mha', 'MGHNICU_454-VISIT_01-ADC_ss.mha', 'MGHNICU_393-VISIT_01-ADC_ss.mha', 'MGHNICU_355-VISIT_01-ADC_ss.mha', 'MGHNICU_457-VISIT_01-ADC_ss.mha', 'MGHNICU_358-VISIT_01-ADC_ss.mha', 'MGHNICU_101-VISIT_01-ADC_ss.mha', 'MGHNICU_074-VISIT_01-ADC_ss.mha', 'MGHNICU_433-VISIT_01-ADC_ss.mha', 'MGHNICU_447-VISIT_01-ADC_ss.mha', 'MGHNICU_435-VISIT_01-ADC_ss.mha', 'MGHNICU_439-VISIT_01-ADC_ss.mha', 'MGHNICU_323-VISIT_01-ADC_ss.mha', 'MGHNICU_348-VISIT_01-ADC_ss.mha', 'MGHNICU_264-VISIT_01-ADC_ss.mha', 'MGHNICU_403-VISIT_01-ADC_ss.mha', 'MGHNICU_174-VISIT_01-ADC_ss.mha', 'MGHNICU_350-VISIT_01-ADC_ss.mha', 'MGHNICU_331-VISIT_01-ADC_ss.mha', 'MGHNICU_309-VISIT_01-ADC_ss.mha', 'MGHNICU_456-VISIT_01-ADC_ss.mha', 'MGHNICU_215-VISIT_01-ADC_ss.mha', 'MGHNICU_376-VISIT_01-ADC_ss.mha', 'MGHNICU_455-VISIT_01-ADC_ss.mha', 'MGHNICU_069-VISIT_01-ADC_ss.mha', 'MGHNICU_377-VISIT_01-ADC_ss.mha', 'MGHNICU_312-VISIT_01-ADC_ss.mha', 'MGHNICU_262-VISIT_01-ADC_ss.mha', 'MGHNICU_209-VISIT_01-ADC_ss.mha', 'MGHNICU_438-VISIT_01-ADC_ss.mha', 'MGHNICU_153-VISIT_01-ADC_ss.mha', 'MGHNICU_452-VISIT_01-ADC_ss.mha', 'MGHNICU_359-VISIT_01-ADC_ss.mha', 'MGHNICU_275-VISIT_01-ADC_ss.mha', 'MGHNICU_231-VISIT_01-ADC_ss.mha', 'MGHNICU_072-VISIT_01-ADC_ss.mha', 'MGHNICU_299-VISIT_01-ADC_ss.mha', 'MGHNICU_305-VISIT_01-ADC_ss.mha', 'MGHNICU_449-VISIT_01-ADC_ss.mha', 'MGHNICU_373-VISIT_01-ADC_ss.mha', 'MGHNICU_346-VISIT_01-ADC_ss.mha', 'MGHNICU_028-VISIT_01-ADC_ss.mha', 'MGHNICU_070-VISIT_01-ADC_ss.mha', 'MGHNICU_446-VISIT_01-ADC_ss.mha', 'MGHNICU_272-VISIT_01-ADC_ss.mha', 'MGHNICU_378-VISIT_01-ADC_ss.mha'}\n",
            "Base names in Z_ADC: {'Zmap_MGHNICU_101-VISIT_01-ADC_smooth2mm_clipped10.mha', 'Zmap_MGHNICU_442-VISIT_01-ADC_smooth2mm_clipped10.mha', 'Zmap_MGHNICU_286-VISIT_01-ADC_smooth2mm_clipped10.mha', 'Zmap_MGHNICU_432-VISIT_01-ADC_smooth2mm_clipped10.mha', 'Zmap_MGHNICU_393-VISIT_01-ADC_smooth2mm_clipped10.mha', 'Zmap_MGHNICU_362-VISIT_01-ADC_smooth2mm_clipped10.mha', 'Zmap_MGHNICU_197-VISIT_01-ADC_smooth2mm_clipped10.mha', 'Zmap_MGHNICU_299-VISIT_01-ADC_smooth2mm_clipped10.mha', 'Zmap_MGHNICU_379-VISIT_01-ADC_smooth2mm_clipped10.mha', 'Zmap_MGHNICU_448-VISIT_01-ADC_smooth2mm_clipped10.mha', 'Zmap_MGHNICU_435-VISIT_01-ADC_smooth2mm_clipped10.mha', 'Zmap_MGHNICU_028-VISIT_01-ADC_smooth2mm_clipped10.mha', 'Zmap_MGHNICU_144-VISIT_01-ADC_smooth2mm_clipped10.mha', 'Zmap_MGHNICU_069-VISIT_01-ADC_smooth2mm_clipped10.mha', 'Zmap_MGHNICU_331-VISIT_01-ADC_smooth2mm_clipped10.mha', 'Zmap_MGHNICU_264-VISIT_01-ADC_smooth2mm_clipped10.mha', 'Zmap_MGHNICU_312-VISIT_01-ADC_smooth2mm_clipped10.mha', 'Zmap_MGHNICU_454-VISIT_01-ADC_smooth2mm_clipped10.mha', 'Zmap_MGHNICU_231-VISIT_01-ADC_smooth2mm_clipped10.mha', 'Zmap_MGHNICU_275-VISIT_01-ADC_smooth2mm_clipped10.mha', 'Zmap_MGHNICU_458-VISIT_01-ADC_smooth2mm_clipped10.mha', 'Zmap_MGHNICU_010-VISIT_01-ADC_smooth2mm_clipped10.mha', 'Zmap_MGHNICU_306-VISIT_01-ADC_smooth2mm_clipped10.mha', 'Zmap_MGHNICU_438-VISIT_01-ADC_smooth2mm_clipped10.mha', 'Zmap_MGHNICU_348-VISIT_01-ADC_smooth2mm_clipped10.mha', 'Zmap_MGHNICU_071-VISIT_01-ADC_smooth2mm_clipped10.mha', 'Zmap_MGHNICU_446-VISIT_01-ADC_smooth2mm_clipped10.mha', 'Zmap_MGHNICU_309-VISIT_01-ADC_smooth2mm_clipped10.mha', 'Zmap_MGHNICU_444-VISIT_01-ADC_smooth2mm_clipped10.mha', 'Zmap_MGHNICU_453-VISIT_01-ADC_smooth2mm_clipped10.mha', 'Zmap_MGHNICU_272-VISIT_01-ADC_smooth2mm_clipped10.mha', 'Zmap_MGHNICU_355-VISIT_01-ADC_smooth2mm_clipped10.mha', 'Zmap_MGHNICU_370-VISIT_01-ADC_smooth2mm_clipped10.mha', 'Zmap_MGHNICU_303-VISIT_01-ADC_smooth2mm_clipped10.mha', 'Zmap_MGHNICU_346-VISIT_01-ADC_smooth2mm_clipped10.mha', 'Zmap_MGHNICU_378-VISIT_01-ADC_smooth2mm_clipped10.mha', 'Zmap_MGHNICU_153-VISIT_01-ADC_smooth2mm_clipped10.mha', 'Zmap_MGHNICU_064-VISIT_01-ADC_smooth2mm_clipped10.mha', 'Zmap_MGHNICU_174-VISIT_01-ADC_smooth2mm_clipped10.mha', 'Zmap_MGHNICU_014-VISIT_01-ADC_smooth2mm_clipped10.mha', 'Zmap_MGHNICU_262-VISIT_01-ADC_smooth2mm_clipped10.mha', 'Zmap_MGHNICU_125-VISIT_01-ADC_smooth2mm_clipped10.mha', 'Zmap_MGHNICU_373-VISIT_01-ADC_smooth2mm_clipped10.mha', 'Zmap_MGHNICU_433-VISIT_01-ADC_smooth2mm_clipped10.mha', 'Zmap_MGHNICU_405-VISIT_01-ADC_smooth2mm_clipped10.mha', 'Zmap_MGHNICU_310-VISIT_01-ADC_smooth2mm_clipped10.mha', 'Zmap_MGHNICU_358-VISIT_01-ADC_smooth2mm_clipped10.mha', 'Zmap_MGHNICU_305-VISIT_01-ADC_smooth2mm_clipped10.mha', 'Zmap_MGHNICU_214-VISIT_01-ADC_smooth2mm_clipped10.mha', 'Zmap_MGHNICU_074-VISIT_01-ADC_smooth2mm_clipped10.mha', 'Zmap_MGHNICU_338-VISIT_01-ADC_smooth2mm_clipped10.mha', 'Zmap_MGHNICU_456-VISIT_01-ADC_smooth2mm_clipped10.mha', 'Zmap_MGHNICU_263-VISIT_01-ADC_smooth2mm_clipped10.mha', 'Zmap_MGHNICU_105-VISIT_01-ADC_smooth2mm_clipped10.mha', 'Zmap_MGHNICU_457-VISIT_01-ADC_smooth2mm_clipped10.mha', 'Zmap_MGHNICU_440-VISIT_01-ADC_smooth2mm_clipped10.mha', 'Zmap_MGHNICU_178-VISIT_01-ADC_smooth2mm_clipped10.mha', 'Zmap_MGHNICU_441-VISIT_01-ADC_smooth2mm_clipped10.mha', 'Zmap_MGHNICU_329-VISIT_01-ADC_smooth2mm_clipped10.mha', 'Zmap_MGHNICU_445-VISIT_01-ADC_smooth2mm_clipped10.mha', 'Zmap_MGHNICU_062-VISIT_01-ADC_smooth2mm_clipped10.mha', 'Zmap_MGHNICU_452-VISIT_01-ADC_smooth2mm_clipped10.mha', 'Zmap_MGHNICU_070-VISIT_01-ADC_smooth2mm_clipped10.mha', 'Zmap_MGHNICU_215-VISIT_01-ADC_smooth2mm_clipped10.mha', 'Zmap_MGHNICU_290-VISIT_01-ADC_smooth2mm_clipped10.mha', 'Zmap_MGHNICU_077-VISIT_01-ADC_smooth2mm_clipped10.mha', 'Zmap_MGHNICU_439-VISIT_01-ADC_smooth2mm_clipped10.mha', 'Zmap_MGHNICU_234-VISIT_01-ADC_smooth2mm_clipped10.mha', 'Zmap_MGHNICU_377-VISIT_01-ADC_smooth2mm_clipped10.mha', 'Zmap_MGHNICU_350-VISIT_01-ADC_smooth2mm_clipped10.mha', 'Zmap_MGHNICU_376-VISIT_01-ADC_smooth2mm_clipped10.mha', 'Zmap_MGHNICU_447-VISIT_01-ADC_smooth2mm_clipped10.mha', 'Zmap_MGHNICU_072-VISIT_01-ADC_smooth2mm_clipped10.mha', 'Zmap_MGHNICU_403-VISIT_01-ADC_smooth2mm_clipped10.mha', 'Zmap_MGHNICU_109-VISIT_01-ADC_smooth2mm_clipped10.mha', 'Zmap_MGHNICU_336-VISIT_01-ADC_smooth2mm_clipped10.mha', 'Zmap_MGHNICU_323-VISIT_01-ADC_smooth2mm_clipped10.mha', 'Zmap_MGHNICU_449-VISIT_01-ADC_smooth2mm_clipped10.mha', 'Zmap_MGHNICU_173-VISIT_01-ADC_smooth2mm_clipped10.mha', 'Zmap_MGHNICU_455-VISIT_01-ADC_smooth2mm_clipped10.mha', 'Zmap_MGHNICU_359-VISIT_01-ADC_smooth2mm_clipped10.mha', 'Zmap_MGHNICU_415-VISIT_01-ADC_smooth2mm_clipped10.mha', 'Zmap_MGHNICU_015-VISIT_01-ADC_smooth2mm_clipped10.mha', 'Zmap_MGHNICU_437-VISIT_01-ADC_smooth2mm_clipped10.mha', 'Zmap_MGHNICU_209-VISIT_01-ADC_smooth2mm_clipped10.mha'}\n",
            "Base names in LABEL: {'MGHNICU_064-VISIT_01_lesion.mha', 'MGHNICU_234-VISIT_01_lesion.mha', 'MGHNICU_263-VISIT_01_lesion.mha', 'MGHNICU_350-VISIT_01_lesion.mha', 'MGHNICU_358-VISIT_01_lesion.mha', 'MGHNICU_336-VISIT_01_lesion.mha', 'MGHNICU_303-VISIT_01_lesion.mha', 'MGHNICU_348-VISIT_01_lesion.mha', 'MGHNICU_072-VISIT_01_lesion.mha', 'MGHNICU_105-VISIT_01_lesion.mha', 'MGHNICU_377-VISIT_01_lesion.mha', 'MGHNICU_109-VISIT_01_lesion.mha', 'MGHNICU_062-VISIT_01_lesion.mha', 'MGHNICU_446-VISIT_01_lesion.mha', 'MGHNICU_290-VISIT_01_lesion.mha', 'MGHNICU_286-VISIT_01_lesion.mha', 'MGHNICU_362-VISIT_01_lesion.mha', 'MGHNICU_448-VISIT_01_lesion.mha', 'MGHNICU_015-VISIT_01_lesion.mha', 'MGHNICU_215-VISIT_01_lesion.mha', 'MGHNICU_231-VISIT_01_lesion.mha', 'MGHNICU_264-VISIT_01_lesion.mha', 'MGHNICU_305-VISIT_01_lesion.mha', 'MGHNICU_272-VISIT_01_lesion.mha', 'MGHNICU_010-VISIT_01_lesion.mha', 'MGHNICU_346-VISIT_01_lesion.mha', 'MGHNICU_432-VISIT_01_lesion.mha', 'MGHNICU_125-VISIT_01_lesion.mha', 'MGHNICU_359-VISIT_01_lesion.mha', 'MGHNICU_405-VISIT_01_lesion.mha', 'MGHNICU_209-VISIT_01_lesion.mha', 'MGHNICU_310-VISIT_01_lesion.mha', 'MGHNICU_453-VISIT_01_lesion.mha', 'MGHNICU_214-VISIT_01_lesion.mha', 'MGHNICU_370-VISIT_01_lesion.mha', 'MGHNICU_457-VISIT_01_lesion.mha', 'MGHNICU_338-VISIT_01_lesion.mha', 'MGHNICU_442-VISIT_01_lesion.mha', 'MGHNICU_331-VISIT_01_lesion.mha', 'MGHNICU_014-VISIT_01_lesion.mha', 'MGHNICU_323-VISIT_01_lesion.mha', 'MGHNICU_355-VISIT_01_lesion.mha', 'MGHNICU_445-VISIT_01_lesion.mha', 'MGHNICU_393-VISIT_01_lesion.mha', 'MGHNICU_452-VISIT_01_lesion.mha', 'MGHNICU_444-VISIT_01_lesion.mha', 'MGHNICU_441-VISIT_01_lesion.mha', 'MGHNICU_299-VISIT_01_lesion.mha', 'MGHNICU_197-VISIT_01_lesion.mha', 'MGHNICU_437-VISIT_01_lesion.mha', 'MGHNICU_435-VISIT_01_lesion.mha', 'MGHNICU_329-VISIT_01_lesion.mha', 'MGHNICU_378-VISIT_01_lesion.mha', 'MGHNICU_275-VISIT_01_lesion.mha', 'MGHNICU_439-VISIT_01_lesion.mha', 'MGHNICU_306-VISIT_01_lesion.mha', 'MGHNICU_074-VISIT_01_lesion.mha', 'MGHNICU_178-VISIT_01_lesion.mha', 'MGHNICU_458-VISIT_01_lesion.mha', 'MGHNICU_144-VISIT_01_lesion.mha', 'MGHNICU_403-VISIT_01_lesion.mha', 'MGHNICU_312-VISIT_01_lesion.mha', 'MGHNICU_449-VISIT_01_lesion.mha', 'MGHNICU_309-VISIT_01_lesion.mha', 'MGHNICU_456-VISIT_01_lesion.mha', 'MGHNICU_415-VISIT_01_lesion.mha', 'MGHNICU_071-VISIT_01_lesion.mha', 'MGHNICU_028-VISIT_01_lesion.mha', 'MGHNICU_070-VISIT_01_lesion.mha', 'MGHNICU_379-VISIT_01_lesion.mha', 'MGHNICU_173-VISIT_01_lesion.mha', 'MGHNICU_440-VISIT_01_lesion.mha', 'MGHNICU_069-VISIT_01_lesion.mha', 'MGHNICU_433-VISIT_01_lesion.mha', 'MGHNICU_077-VISIT_01_lesion.mha', 'MGHNICU_153-VISIT_01_lesion.mha', 'MGHNICU_454-VISIT_01_lesion.mha', 'MGHNICU_438-VISIT_01_lesion.mha', 'MGHNICU_373-VISIT_01_lesion.mha', 'MGHNICU_101-VISIT_01_lesion.mha', 'MGHNICU_455-VISIT_01_lesion.mha', 'MGHNICU_447-VISIT_01_lesion.mha', 'MGHNICU_262-VISIT_01_lesion.mha', 'MGHNICU_174-VISIT_01_lesion.mha', 'MGHNICU_376-VISIT_01_lesion.mha'}\n"
          ]
        }
      ]
    },
    {
      "cell_type": "code",
      "source": [
        "import os\n",
        "\n",
        "# Paths to directories in Google Drive\n",
        "adc_dir = \"/content/drive/MyDrive/BONBID CHALLENGE 2024/challenge harward/BONBID2023_Train/BONBID2023_Train/1ADC_ss\"\n",
        "z_adc_dir = \"/content/drive/MyDrive/BONBID CHALLENGE 2024/challenge harward/BONBID2023_Train/BONBID2023_Train/2Z_ADC\"\n",
        "label_dir = \"/content/drive/MyDrive/BONBID CHALLENGE 2024/challenge harward/BONBID2023_Train/BONBID2023_Train/3LABEL\"\n",
        "output_dir = \"/content/drive/MyDrive/BONBID CHALLENGE 2024/challenge harward/BONBID2023_Train/BONBID2023_Train/Preprocessed\"\n",
        "\n",
        "# Create the output directory if it doesn't exist\n",
        "os.makedirs(output_dir, exist_ok=True)\n",
        "\n",
        "# Function to load .mha files (assuming this function is defined already in your environment)\n",
        "def load_mha_file(file_path):\n",
        "    import SimpleITK as sitk\n",
        "    img = sitk.ReadImage(file_path)\n",
        "    img_array = sitk.GetArrayFromImage(img)\n",
        "    return img_array, img\n",
        "\n",
        "# Function to resample (assuming this function is defined already in your environment)\n",
        "def resample_image(img, new_spacing=[1.0, 1.0, 1.0]):\n",
        "    import SimpleITK as sitk\n",
        "    original_spacing = img.GetSpacing()\n",
        "    original_size = img.GetSize()\n",
        "    new_size = [int(round(original_size[i] * (original_spacing[i] / new_spacing[i]))) for i in range(3)]\n",
        "    resample = sitk.ResampleImageFilter()\n",
        "    resample.SetOutputSpacing(new_spacing)\n",
        "    resample.SetSize(new_size)\n",
        "    resample.SetInterpolator(sitk.sitkLinear)\n",
        "    resample.SetOutputDirection(img.GetDirection())\n",
        "    resample.SetOutputOrigin(img.GetOrigin())\n",
        "    resample.SetTransform(sitk.Transform())\n",
        "    return resample.Execute(img)\n",
        "\n",
        "# Adjust base names to match across directories\n",
        "adc_files = {file_name.replace(\"-ADC_ss.mha\", \"\") for file_name in os.listdir(adc_dir)}\n",
        "z_adc_files = {file_name.replace(\"Zmap_\", \"\").replace(\"-ADC_smooth2mm_clipped10.mha\", \"\") for file_name in os.listdir(z_adc_dir)}\n",
        "label_files = {file_name.replace(\"_lesion.mha\", \"\") for file_name in os.listdir(label_dir)}\n",
        "\n",
        "# Find common base names across all directories\n",
        "common_files = adc_files.intersection(z_adc_files).intersection(label_files)\n",
        "print(\"Common files across all directories:\", common_files)\n",
        "\n",
        "# Process each common file\n",
        "for base_name in common_files:\n",
        "    # Construct full paths using the base name\n",
        "    adc_path = os.path.join(adc_dir, f\"{base_name}-ADC_ss.mha\")\n",
        "    z_adc_path = os.path.join(z_adc_dir, f\"Zmap_{base_name}-ADC_smooth2mm_clipped10.mha\")\n",
        "    label_path = os.path.join(label_dir, f\"{base_name}_lesion.mha\")\n",
        "\n",
        "    # Load the images\n",
        "    adc_image, adc_sitk = load_mha_file(adc_path)\n",
        "    z_adc_image, z_adc_sitk = load_mha_file(z_adc_path)\n",
        "    label_image, label_sitk = load_mha_file(label_path)\n",
        "\n",
        "    # Resample images to target spacing\n",
        "    adc_resampled = resample_image(adc_sitk)\n",
        "    z_adc_resampled = resample_image(z_adc_sitk)\n",
        "    label_resampled = resample_image(label_sitk)\n",
        "\n",
        "    import SimpleITK as sitk\n",
        "\n",
        "# Function to save processed .mha images\n",
        "def save_mha_image(img_array, reference_image, output_path):\n",
        "    \"\"\"\n",
        "    Save a numpy array as a .mha image file, using the reference image for metadata.\n",
        "    \"\"\"\n",
        "    img_to_save = sitk.GetImageFromArray(img_array)\n",
        "    img_to_save.CopyInformation(reference_image)  # Copy metadata from reference image\n",
        "    sitk.WriteImage(img_to_save, output_path)\n",
        "\n",
        "\n",
        "    # Save the processed files\n",
        "    save_mha_image(sitk.GetArrayFromImage(adc_resampled), adc_sitk, os.path.join(output_dir, f\"adc_resampled_{base_name}.mha\"))\n",
        "    save_mha_image(sitk.GetArrayFromImage(z_adc_resampled), z_adc_sitk, os.path.join(output_dir, f\"z_adc_resampled_{base_name}.mha\"))\n",
        "    save_mha_image(sitk.GetArrayFromImage(label_resampled), label_sitk, os.path.join(output_dir, f\"label_resampled_{base_name}.mha\"))\n",
        "\n",
        "    print(f\"Processed and saved for {base_name}\")\n"
      ],
      "metadata": {
        "colab": {
          "base_uri": "https://localhost:8080/"
        },
        "id": "YH0ivpGsleGJ",
        "outputId": "10997613-be95-47cc-e050-14d4e0c765e8"
      },
      "execution_count": null,
      "outputs": [
        {
          "output_type": "stream",
          "name": "stdout",
          "text": [
            "Common files across all directories: {'MGHNICU_231-VISIT_01', 'MGHNICU_437-VISIT_01', 'MGHNICU_435-VISIT_01', 'MGHNICU_415-VISIT_01', 'MGHNICU_077-VISIT_01', 'MGHNICU_215-VISIT_01', 'MGHNICU_444-VISIT_01', 'MGHNICU_109-VISIT_01', 'MGHNICU_454-VISIT_01', 'MGHNICU_348-VISIT_01', 'MGHNICU_379-VISIT_01', 'MGHNICU_144-VISIT_01', 'MGHNICU_438-VISIT_01', 'MGHNICU_312-VISIT_01', 'MGHNICU_197-VISIT_01', 'MGHNICU_014-VISIT_01', 'MGHNICU_173-VISIT_01', 'MGHNICU_072-VISIT_01', 'MGHNICU_105-VISIT_01', 'MGHNICU_178-VISIT_01', 'MGHNICU_452-VISIT_01', 'MGHNICU_125-VISIT_01', 'MGHNICU_275-VISIT_01', 'MGHNICU_010-VISIT_01', 'MGHNICU_441-VISIT_01', 'MGHNICU_209-VISIT_01', 'MGHNICU_272-VISIT_01', 'MGHNICU_449-VISIT_01', 'MGHNICU_323-VISIT_01', 'MGHNICU_062-VISIT_01', 'MGHNICU_331-VISIT_01', 'MGHNICU_338-VISIT_01', 'MGHNICU_376-VISIT_01', 'MGHNICU_305-VISIT_01', 'MGHNICU_214-VISIT_01', 'MGHNICU_101-VISIT_01', 'MGHNICU_064-VISIT_01', 'MGHNICU_303-VISIT_01', 'MGHNICU_456-VISIT_01', 'MGHNICU_071-VISIT_01', 'MGHNICU_440-VISIT_01', 'MGHNICU_306-VISIT_01', 'MGHNICU_439-VISIT_01', 'MGHNICU_377-VISIT_01', 'MGHNICU_015-VISIT_01', 'MGHNICU_028-VISIT_01', 'MGHNICU_290-VISIT_01', 'MGHNICU_070-VISIT_01', 'MGHNICU_442-VISIT_01', 'MGHNICU_350-VISIT_01', 'MGHNICU_153-VISIT_01', 'MGHNICU_359-VISIT_01', 'MGHNICU_358-VISIT_01', 'MGHNICU_286-VISIT_01', 'MGHNICU_447-VISIT_01', 'MGHNICU_432-VISIT_01', 'MGHNICU_403-VISIT_01', 'MGHNICU_393-VISIT_01', 'MGHNICU_373-VISIT_01', 'MGHNICU_310-VISIT_01', 'MGHNICU_446-VISIT_01', 'MGHNICU_174-VISIT_01', 'MGHNICU_370-VISIT_01', 'MGHNICU_263-VISIT_01', 'MGHNICU_457-VISIT_01', 'MGHNICU_262-VISIT_01', 'MGHNICU_346-VISIT_01', 'MGHNICU_299-VISIT_01', 'MGHNICU_378-VISIT_01', 'MGHNICU_336-VISIT_01', 'MGHNICU_458-VISIT_01', 'MGHNICU_309-VISIT_01', 'MGHNICU_355-VISIT_01', 'MGHNICU_074-VISIT_01', 'MGHNICU_445-VISIT_01', 'MGHNICU_264-VISIT_01', 'MGHNICU_405-VISIT_01', 'MGHNICU_433-VISIT_01', 'MGHNICU_234-VISIT_01', 'MGHNICU_455-VISIT_01', 'MGHNICU_329-VISIT_01', 'MGHNICU_453-VISIT_01', 'MGHNICU_362-VISIT_01', 'MGHNICU_069-VISIT_01', 'MGHNICU_448-VISIT_01'}\n"
          ]
        }
      ]
    },
    {
      "cell_type": "code",
      "source": [
        "# Preprocessing"
      ],
      "metadata": {
        "id": "zyPYj61TlpYv"
      },
      "execution_count": null,
      "outputs": []
    },
    {
      "cell_type": "code",
      "source": [
        "import os\n",
        "import SimpleITK as sitk\n",
        "\n",
        "# Paths to directories in Google Drive\n",
        "adc_dir = \"/content/drive/MyDrive/BONBID CHALLENGE 2024/challenge harward/BONBID2023_Train/BONBID2023_Train/1ADC_ss\"\n",
        "z_adc_dir = \"/content/drive/MyDrive/BONBID CHALLENGE 2024/challenge harward/BONBID2023_Train/BONBID2023_Train/2Z_ADC\"\n",
        "label_dir = \"/content/drive/MyDrive/BONBID CHALLENGE 2024/challenge harward/BONBID2023_Train/BONBID2023_Train/3LABEL\"\n",
        "output_dir = \"/content/drive/MyDrive/BONBID CHALLENGE 2024/challenge harward/BONBID2023_Train/BONBID2023_Train/Preprocessed\"\n",
        "\n",
        "os.makedirs(output_dir, exist_ok=True)\n",
        "\n",
        "def load_mha_file(file_path):\n",
        "    img = sitk.ReadImage(file_path)\n",
        "    img_array = sitk.GetArrayFromImage(img)\n",
        "    return img_array, img\n",
        "\n",
        "def resample_image(img, new_spacing=[1.0, 1.0, 1.0]):\n",
        "    original_spacing = img.GetSpacing()\n",
        "    original_size = img.GetSize()\n",
        "    new_size = [int(round(original_size[i] * (original_spacing[i] / new_spacing[i]))) for i in range(3)]\n",
        "    resample = sitk.ResampleImageFilter()\n",
        "    resample.SetOutputSpacing(new_spacing)\n",
        "    resample.SetSize(new_size)\n",
        "    resample.SetInterpolator(sitk.sitkLinear)\n",
        "    resample.SetOutputDirection(img.GetDirection())\n",
        "    resample.SetOutputOrigin(img.GetOrigin())\n",
        "    resample.SetTransform(sitk.Transform())\n",
        "    return resample.Execute(img)\n",
        "\n",
        "# Updated save function\n",
        "def save_mha_image(img, output_path):\n",
        "    sitk.WriteImage(img, output_path)\n",
        "\n",
        "# Process each common file\n",
        "for base_name in common_files:\n",
        "    adc_path = os.path.join(adc_dir, f\"{base_name}-ADC_ss.mha\")\n",
        "    z_adc_path = os.path.join(z_adc_dir, f\"Zmap_{base_name}-ADC_smooth2mm_clipped10.mha\")\n",
        "    label_path = os.path.join(label_dir, f\"{base_name}_lesion.mha\")\n",
        "\n",
        "    adc_image, adc_sitk = load_mha_file(adc_path)\n",
        "    z_adc_image, z_adc_sitk = load_mha_file(z_adc_path)\n",
        "    label_image, label_sitk = load_mha_file(label_path)\n",
        "\n",
        "    adc_resampled = resample_image(adc_sitk)\n",
        "    z_adc_resampled = resample_image(z_adc_sitk)\n",
        "    label_resampled = resample_image(label_sitk)\n",
        "\n",
        "    save_mha_image(adc_resampled, os.path.join(output_dir, f\"adc_resampled_{base_name}.mha\"))\n",
        "    save_mha_image(z_adc_resampled, os.path.join(output_dir, f\"z_adc_resampled_{base_name}.mha\"))\n",
        "    save_mha_image(label_resampled, os.path.join(output_dir, f\"label_resampled_{base_name}.mha\"))\n",
        "\n",
        "    print(f\"Processed and saved for {base_name}\")\n"
      ],
      "metadata": {
        "colab": {
          "base_uri": "https://localhost:8080/"
        },
        "id": "ZXzw8-ju8h99",
        "outputId": "0a3b50ea-6337-4d84-81a7-db9406d24f37"
      },
      "execution_count": null,
      "outputs": [
        {
          "output_type": "stream",
          "name": "stdout",
          "text": [
            "Processed and saved for MGHNICU_231-VISIT_01\n",
            "Processed and saved for MGHNICU_437-VISIT_01\n",
            "Processed and saved for MGHNICU_435-VISIT_01\n",
            "Processed and saved for MGHNICU_415-VISIT_01\n",
            "Processed and saved for MGHNICU_077-VISIT_01\n",
            "Processed and saved for MGHNICU_215-VISIT_01\n",
            "Processed and saved for MGHNICU_444-VISIT_01\n",
            "Processed and saved for MGHNICU_109-VISIT_01\n",
            "Processed and saved for MGHNICU_454-VISIT_01\n",
            "Processed and saved for MGHNICU_348-VISIT_01\n",
            "Processed and saved for MGHNICU_379-VISIT_01\n",
            "Processed and saved for MGHNICU_144-VISIT_01\n",
            "Processed and saved for MGHNICU_438-VISIT_01\n",
            "Processed and saved for MGHNICU_312-VISIT_01\n",
            "Processed and saved for MGHNICU_197-VISIT_01\n",
            "Processed and saved for MGHNICU_014-VISIT_01\n",
            "Processed and saved for MGHNICU_173-VISIT_01\n",
            "Processed and saved for MGHNICU_072-VISIT_01\n",
            "Processed and saved for MGHNICU_105-VISIT_01\n",
            "Processed and saved for MGHNICU_178-VISIT_01\n",
            "Processed and saved for MGHNICU_452-VISIT_01\n",
            "Processed and saved for MGHNICU_125-VISIT_01\n",
            "Processed and saved for MGHNICU_275-VISIT_01\n",
            "Processed and saved for MGHNICU_010-VISIT_01\n",
            "Processed and saved for MGHNICU_441-VISIT_01\n",
            "Processed and saved for MGHNICU_209-VISIT_01\n",
            "Processed and saved for MGHNICU_272-VISIT_01\n",
            "Processed and saved for MGHNICU_449-VISIT_01\n",
            "Processed and saved for MGHNICU_323-VISIT_01\n",
            "Processed and saved for MGHNICU_062-VISIT_01\n",
            "Processed and saved for MGHNICU_331-VISIT_01\n",
            "Processed and saved for MGHNICU_338-VISIT_01\n",
            "Processed and saved for MGHNICU_376-VISIT_01\n",
            "Processed and saved for MGHNICU_305-VISIT_01\n",
            "Processed and saved for MGHNICU_214-VISIT_01\n",
            "Processed and saved for MGHNICU_101-VISIT_01\n",
            "Processed and saved for MGHNICU_064-VISIT_01\n",
            "Processed and saved for MGHNICU_303-VISIT_01\n",
            "Processed and saved for MGHNICU_456-VISIT_01\n",
            "Processed and saved for MGHNICU_071-VISIT_01\n",
            "Processed and saved for MGHNICU_440-VISIT_01\n",
            "Processed and saved for MGHNICU_306-VISIT_01\n",
            "Processed and saved for MGHNICU_439-VISIT_01\n",
            "Processed and saved for MGHNICU_377-VISIT_01\n",
            "Processed and saved for MGHNICU_015-VISIT_01\n",
            "Processed and saved for MGHNICU_028-VISIT_01\n",
            "Processed and saved for MGHNICU_290-VISIT_01\n",
            "Processed and saved for MGHNICU_070-VISIT_01\n",
            "Processed and saved for MGHNICU_442-VISIT_01\n",
            "Processed and saved for MGHNICU_350-VISIT_01\n",
            "Processed and saved for MGHNICU_153-VISIT_01\n",
            "Processed and saved for MGHNICU_359-VISIT_01\n",
            "Processed and saved for MGHNICU_358-VISIT_01\n",
            "Processed and saved for MGHNICU_286-VISIT_01\n",
            "Processed and saved for MGHNICU_447-VISIT_01\n",
            "Processed and saved for MGHNICU_432-VISIT_01\n",
            "Processed and saved for MGHNICU_403-VISIT_01\n",
            "Processed and saved for MGHNICU_393-VISIT_01\n",
            "Processed and saved for MGHNICU_373-VISIT_01\n",
            "Processed and saved for MGHNICU_310-VISIT_01\n",
            "Processed and saved for MGHNICU_446-VISIT_01\n",
            "Processed and saved for MGHNICU_174-VISIT_01\n",
            "Processed and saved for MGHNICU_370-VISIT_01\n",
            "Processed and saved for MGHNICU_263-VISIT_01\n",
            "Processed and saved for MGHNICU_457-VISIT_01\n",
            "Processed and saved for MGHNICU_262-VISIT_01\n",
            "Processed and saved for MGHNICU_346-VISIT_01\n",
            "Processed and saved for MGHNICU_299-VISIT_01\n",
            "Processed and saved for MGHNICU_378-VISIT_01\n",
            "Processed and saved for MGHNICU_336-VISIT_01\n",
            "Processed and saved for MGHNICU_458-VISIT_01\n",
            "Processed and saved for MGHNICU_309-VISIT_01\n",
            "Processed and saved for MGHNICU_355-VISIT_01\n",
            "Processed and saved for MGHNICU_074-VISIT_01\n",
            "Processed and saved for MGHNICU_445-VISIT_01\n",
            "Processed and saved for MGHNICU_264-VISIT_01\n",
            "Processed and saved for MGHNICU_405-VISIT_01\n",
            "Processed and saved for MGHNICU_433-VISIT_01\n",
            "Processed and saved for MGHNICU_234-VISIT_01\n",
            "Processed and saved for MGHNICU_455-VISIT_01\n",
            "Processed and saved for MGHNICU_329-VISIT_01\n",
            "Processed and saved for MGHNICU_453-VISIT_01\n",
            "Processed and saved for MGHNICU_362-VISIT_01\n",
            "Processed and saved for MGHNICU_069-VISIT_01\n",
            "Processed and saved for MGHNICU_448-VISIT_01\n"
          ]
        }
      ]
    }
  ]
}